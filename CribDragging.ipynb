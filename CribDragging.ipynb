{
 "cells": [
  {
   "cell_type": "markdown",
   "metadata": {},
   "source": [
    "https://crypto.stackexchange.com/questions/2249/how-does-one-attack-a-two-time-pad-i-e-one-time-pad-with-key-reuse"
   ]
  },
  {
   "cell_type": "code",
   "execution_count": 13,
   "metadata": {
    "tags": []
   },
   "outputs": [],
   "source": [
    "c1 = \"A29013CBFE116C247B377BE21915261457847B4C3E527A02CFF2CD17C3956403A383ACAFC0D170D67CEB3829BC0297255181A5ED4F7F0EF26B69C621EFA2C86411CC036EE71D126FD503D47FA15B4EB0332BDA31D7824535E8AD542C7E56D04279E8B693021038631CBF53A57D09ADEC3AED85513A82A6FD4803BD5CEE2A3D91D25BA20057FEE3212D44F3BACD29CF396FB29EB259EC319D052052B2C4A82867BBC476A8545BD193CDA409729F108BF3D62E0D403C8D801C66BDCC1F052512D047F10D0871E5807D3EA19404DFF42FB872A6B2DC610F9EC5B37F49205EB55BB1DE554A47F6138B2F39E5FBF71D7B5C68195C7089397DB423BDC3880AF67B64C27C381EF55AC08FF4B5ED4F6F92C349A8514F1D96C8DE22E143C44056CCD0338715073396E3A94240AE36CA2E2F18B389720B7909CF26F9492D397DB982BFF90DB2FF6E098A20976C68DF9CF17D3C5DA07A490F65D439A0C6E11AACD7064A7D788CFD0B82A98C615F70D654195D13D5D4B2F56EB7B1CD49E75D6003241BB2856A0146146FA92B2FA0D68980950B227F587F641EF3D80A5E73F4F23AE5F75386DEF1E0DD45666FF11C84FD0F1C9F7D61B1EDFCA659781B441F2B7CCC89EDC8E69611FB2EDD7044F594DDEADC93B3C14CB710D3A7050BBA2BC1FD472683D02AE30076CE87522318FC9A7D2DD8E8F9D3085133EFB0A756ECFBDC7321BA66D0213FF22F46EC0D78BBF0D6456135208B20F98C003C8508BF21E1F6FE1EFFEE11C24F1BDF41793F511B03A5ACC7527AF3BB2D92706332BE63D40772A6214A633964EEFA0E6860DF91060EF2A10C82257D1CDDE0EED1ED65D56F2DFD2B08D46D669A9D684A8EE9556AB8BE3A170CA6850B39719F753CCBBF0323EBB7E0C5628CE419381B07754F0A38C476CE87415C12D4F2D4DE73A5D4F67A82C970CAA7FCA67BBA308D498D6064E0DE00ABDF3F62BDDA1BA7563EB2C4F90F60F94CE5D06D3E7E1D230A2128DD636FB6582D057F51924582B9CA3F2C9D29AF2BC817DABE8628C271463C306D0B5C957349BB304628FC9AF1D68E67802CFFF05261CC9FF8E8\"\n",
    "c2 = \"A88E1FCFE30D62267E2D7BEE165C0B673CA85F0D235B221990BDC656D7D46E00E7CEB0B289D331CF70F03E35F84F9D271891B0A207570EE16775CF64F6E7DE7A11C20A3DB0540C2ED917893AAD5A5FA3762CCD31EA924631EDB8012B7D50CD4079C4B4820416246906F67DE47000FBC021FC931169A2A7E55E4DE174C3471AC1D27DAC5914CBFE3E380DE9ACDA33C37064FF90AF5DA925D4143B47E0C0A52867BB8161ED4C419C9BD7A54D3F9F0F9ABAD225495D35C8C34231FF990251641DC013F2174068E88B2920E6D06080B97DFA6FE7AED46A418BC8F87F4A6143B112B1CF534C42F6148A2C7CE5F0F506755D6F02557DD33D6AB423BDC3880AF83A45CB6F3401A650C3CAF3A7F0447B92F77E9C13044296C3D03CB154D5404ACCCD22920C0C208FF4EC1852A27389247A18FC8C605236069C34B90A737475BFCBBBE15EE6F9645DE32C866C74918EEC377962B6374D4B6FC53FA9DBEF5F95DE0A06356286FA1095BDDF2E4B35CA4E144A04DFD48FF37FF2A2D658FB12774E241CBA856D0C514274AF2D35F0CD898F82433363587F6A09F0D81C5473EFF433ACFC57D4D3FCE0E87F530ECC38BDB40F1F9F646CBDBEE1A9177F155B1637328A91F69CEBD81BFA39C07F4DA1D1DDEEC68CF2CB40AA049CE03417FE3ACDB8586F95D52EEE4C37CEDE44360FFD907D2DD9ADE8885E1176A3C28E7BECAFCA317CFB34F4627EF9260AE30E2AA1F4D752203F2ACF36F0CC54598107F639A9E0BB09E8F90FC84F4B85152C3C055B4CACA8C6056DE4AD7892676F33BE79D0077EF22F04663975FBE6156E60D7991414FFE61A94652972CCE6FED8F139D55E28F962118760758D9D674BDCA04C72B2A53C5601BDC80923699F272685FE1234AEA4F1DD7982B608345E5353011C389677C59F046944A9A1DCDD62E9D4FF71C7C56AD7BDE0EF28A7378610CB7C6EE89A618DE05E4F97E055B65A6AE6C3F24350B75AF2CB663D664466447525C56F2CB25533102605CC5CDBA9D47E358366B83BD904DBECD22FD5714473356D495E923A51F33C083FEC9AE5D283768039F5F00469DCDAE7A9\"\n",
    "\n",
    "c1 = bytes.fromhex(c1)\n",
    "c2 = bytes.fromhex(c2)\n",
    "xor = [a ^ b for a, b in zip(c1, c2)]"
   ]
  },
  {
   "cell_type": "code",
   "execution_count": 14,
   "metadata": {
    "tags": []
   },
   "outputs": [
    {
     "data": {
      "text/plain": [
       "77.5"
      ]
     },
     "execution_count": 14,
     "metadata": {},
     "output_type": "execute_result"
    }
   ],
   "source": [
    "chars = \"abcdefghijklmnopqrstuvwxyz\".upper()\n",
    "# chars = chars.upper()\n",
    "# chars += \"0123456789\"\n",
    "\n",
    "sum(ord(ch) for ch in chars) / len(chars)"
   ]
  },
  {
   "cell_type": "code",
   "execution_count": 4,
   "metadata": {
    "tags": []
   },
   "outputs": [],
   "source": [
    "def display(bytez):\n",
    "    return \"\".join(chr(i) for i in bytez)\n",
    "\n",
    "def attempts(crib):\n",
    "    attempts = []\n",
    "    binary = [ord(c) for c in crib]\n",
    "\n",
    "    for i in range(len(xor) - len(binary)):\n",
    "        guess = [x ^ y for x, y in zip(binary, xor[i:i+len(binary)])]\n",
    "        string = display(guess)\n",
    "        attempts.append(( entropy(string), string ))\n",
    "\n",
    "    attempts.sort(key=lambda tup: tup[0])\n",
    "    return attempts[0][1]\n",
    "\n",
    "def entropy1(string):\n",
    "    e = 0\n",
    "    string = string.replace(\" \", \"\")#.lower()\n",
    "    for i in range(len(string)):\n",
    "        for j in range(i+1, len(string)):\n",
    "            e += (ord(string[i]) - ord(string[j]))**2\n",
    "    \n",
    "    return e / len(string) # / len(string)\n",
    "\n",
    "def entropy(string):\n",
    "    e = 0\n",
    "    string = string.replace(\" \", \"\").upper()\n",
    "    for i in range(len(string)):\n",
    "        e += (77.5 - ord(string[i]))**2 # 70.55\n",
    "    \n",
    "    return e / len(string)"
   ]
  },
  {
   "cell_type": "code",
   "execution_count": 5,
   "metadata": {
    "tags": []
   },
   "outputs": [],
   "source": [
    "# Electronic mail (email or e-mail) is a method of exchanging messages (mail) between people using Internet Mail Extensions (MIME) to carry text in other character sets and multimedia content "
   ]
  },
  {
   "cell_type": "code",
   "execution_count": 6,
   "metadata": {
    "tags": []
   },
   "outputs": [
    {
     "data": {
      "text/plain": [
       "'ok huk r'"
      ]
     },
     "execution_count": 6,
     "metadata": {},
     "output_type": "execute_result"
    }
   ],
   "source": [
    "attempts(\"in other\")"
   ]
  },
  {
   "cell_type": "code",
   "execution_count": 7,
   "metadata": {
    "tags": []
   },
   "outputs": [
    {
     "data": {
      "text/plain": [
       "' Internet Mail Exte`'"
      ]
     },
     "execution_count": 7,
     "metadata": {},
     "output_type": "execute_result"
    }
   ],
   "source": [
    "b = attempts(\n",
    "    \" electronic devices \")\n",
    "b"
   ]
  },
  {
   "cell_type": "raw",
   "metadata": {
    "tags": []
   },
   "source": [
    "from Crypto.PublicKey import ElGamal\n",
    "\n",
    "# Generate a new ElGamal key pair\n",
    "key = ElGamal.generate(1024, rnd.get_random_bytes)\n",
    "\n",
    "# Extract the generator, private key, and prime modulus\n",
    "g = key.g\n",
    "x = key.x\n",
    "p = key.p\n",
    "\n",
    "# Compute g^x mod p\n",
    "y = pow(g, x, p)\n",
    "\n",
    "print(\"Generator g: \", g)\n",
    "print(\"Private key x: \", x)\n",
    "print(\"Public key y: \", y)"
   ]
  },
  {
   "cell_type": "code",
   "execution_count": null,
   "metadata": {},
   "outputs": [],
   "source": []
  }
 ],
 "metadata": {
  "kernelspec": {
   "display_name": "Python 3 (ipykernel)",
   "language": "python",
   "name": "python3"
  },
  "language_info": {
   "codemirror_mode": {
    "name": "ipython",
    "version": 3
   },
   "file_extension": ".py",
   "mimetype": "text/x-python",
   "name": "python",
   "nbconvert_exporter": "python",
   "pygments_lexer": "ipython3",
   "version": "3.10.12"
  }
 },
 "nbformat": 4,
 "nbformat_minor": 4
}
