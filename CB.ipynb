{
 "cells": [
  {
   "cell_type": "markdown",
   "metadata": {},
   "source": [
    "# Enkratna podloga in napadi nanjo\n",
    "\n",
    "Cilji laboratorijske vaje so sledeči:\n",
    "- spoznati postrojitev podatkov za potrebe šifriranja,\n",
    "- spoznati delovanje enkratne podloge (OTP) in posledično tokovnih šifer,\n",
    "- spoznati tehniko napada na enkratno podlogo, ko se ključ uporabi večkrat,\n",
    "- spoznati tehniko napada na enkratno podlogo, ko lahko napadalec spremeni tajnopis.\n",
    "\n",
    "**POMEMBNO**\n",
    "\n",
    "Namen te laboratorijske vaje se je seznaniti z načinom ravnanja s šiframi. Naša implementacija šifer bo osnovana na preprostosti in bo narejena **zgolj v pedagoške namene**. Kot taka ni primerna za uporabo v praksi. \n",
    "\n",
    "Šifre, ki so za uporabo v praksi primerne in primerno implementirane, bomo spoznali kasneje."
   ]
  },
  {
   "cell_type": "markdown",
   "metadata": {},
   "source": [
    "## Ustvarjanje pravih naključnih vrednosti"
   ]
  },
  {
   "cell_type": "markdown",
   "metadata": {},
   "source": [
    "Naključne vrednosti bomo v Pythonu ustvarili s pomočjo modula `secrets`. Za zdaj bo to najboljši približek pravim naključnim vrednostim; [povezava na dokumentacijo.](https://docs.python.org/3/library/secrets.html)\n",
    "\n",
    "Najprej modul uvozimo, nato pa imlementiramo funkcijo, katera ustvari seznam naključnih bajtov za podano dolžino."
   ]
  },
  {
   "cell_type": "code",
   "execution_count": 1,
   "metadata": {
    "tags": []
   },
   "outputs": [],
   "source": [
    "import secrets"
   ]
  },
  {
   "cell_type": "code",
   "execution_count": 2,
   "metadata": {
    "tags": []
   },
   "outputs": [],
   "source": [
    "def gen_key(length):\n",
    "    \"\"\"Vrne nakljucni niz bajtov podane dolzine\"\"\"\n",
    "    return secrets.token_bytes(length)"
   ]
  },
  {
   "cell_type": "markdown",
   "metadata": {},
   "source": [
    "## Naloga 1: Postroj podatkov\n",
    "\n",
    "Vse moderne šifre delujejo na bitih (in bajtih). To pomeni, da moramo visokonivojske podatke (števila, nize, podatkovne strukture) pretvoriti v zaporedje ničel in enic, da jih lahko šifriramo.\n",
    "\n",
    "Pri pretvorbi nizov uporabimo kodirno shemo. Najbolj pogosti možnosti sta ASCII ter UTF-8. \n",
    "\n",
    "Če uporabimo zgolj znake s kodirne tabele ASCII, dobimo pri obeh kodirnih shemah isti rezultat"
   ]
  },
  {
   "cell_type": "code",
   "execution_count": 26,
   "metadata": {
    "tags": []
   },
   "outputs": [
    {
     "name": "stdout",
     "output_type": "stream",
     "text": [
      "dober dan\n",
      "b'dober dan'\n",
      "b'dober dan'\n",
      "[100, 111, 98, 101, 114, 32, 100, 97, 110]\n"
     ]
    }
   ],
   "source": [
    "sporocilo1 = \"dober dan\"\n",
    "sporocilo1_ascii = sporocilo1.encode(\"ascii\")\n",
    "sporocilo1_utf8 = sporocilo1.encode(\"utf8\")\n",
    "\n",
    "assert sporocilo1_ascii == sporocilo1_utf8\n",
    "\n",
    "print(sporocilo1)\n",
    "print(sporocilo1_ascii)\n",
    "print(sporocilo1_utf8)\n",
    "print(list(sporocilo1_ascii))"
   ]
  },
  {
   "cell_type": "markdown",
   "metadata": {
    "tags": []
   },
   "source": [
    "Če pa uporabimo tudi znake, ki jih na kodirni tabeli ASCII ni, denimo šumnike, pa pride do razlik."
   ]
  },
  {
   "cell_type": "code",
   "execution_count": 27,
   "metadata": {
    "tags": []
   },
   "outputs": [
    {
     "name": "stdout",
     "output_type": "stream",
     "text": [
      "b'dober ve\\xc4\\x8der'\n"
     ]
    }
   ],
   "source": [
    "sporocilo2 = \"dober večer\"\n",
    "sporocilo2_utf8 = sporocilo2.encode(\"utf8\")\n",
    "print(sporocilo2_utf8)"
   ]
  },
  {
   "cell_type": "markdown",
   "metadata": {},
   "source": [
    "ASCII kodiranje v tem primeru ne deluje: pri kodiranju znaka `č` bo prišlo do napake."
   ]
  },
  {
   "cell_type": "code",
   "execution_count": 28,
   "metadata": {
    "tags": []
   },
   "outputs": [
    {
     "ename": "UnicodeEncodeError",
     "evalue": "'ascii' codec can't encode character '\\u010d' in position 8: ordinal not in range(128)",
     "output_type": "error",
     "traceback": [
      "\u001b[0;31m---------------------------------------------------------------------------\u001b[0m",
      "\u001b[0;31mUnicodeEncodeError\u001b[0m                        Traceback (most recent call last)",
      "Cell \u001b[0;32mIn[28], line 1\u001b[0m\n\u001b[0;32m----> 1\u001b[0m \u001b[43msporocilo2\u001b[49m\u001b[38;5;241;43m.\u001b[39;49m\u001b[43mencode\u001b[49m\u001b[43m(\u001b[49m\u001b[38;5;124;43m\"\u001b[39;49m\u001b[38;5;124;43mascii\u001b[39;49m\u001b[38;5;124;43m\"\u001b[39;49m\u001b[43m)\u001b[49m\n",
      "\u001b[0;31mUnicodeEncodeError\u001b[0m: 'ascii' codec can't encode character '\\u010d' in position 8: ordinal not in range(128)"
     ]
    }
   ],
   "source": [
    "sporocilo2.encode(\"ascii\")"
   ]
  },
  {
   "cell_type": "markdown",
   "metadata": {},
   "source": [
    "Včasih želimo bajte predstaviti v šestnajstiškem zapisu. V ta namen uporabimo funkcijo `hex()`."
   ]
  },
  {
   "cell_type": "code",
   "execution_count": 34,
   "metadata": {
    "tags": []
   },
   "outputs": [
    {
     "name": "stdout",
     "output_type": "stream",
     "text": [
      "Sporočilo 'dober večer' predstavljeno kot:\n",
      "Seznam bajtov: [100, 111, 98, 101, 114, 32, 118, 101, 196, 141, 101, 114]\n",
      "Šestnajstiški niz: 646f626572207665c48d6572\n"
     ]
    }
   ],
   "source": [
    "print(f\"Sporočilo '{sporocilo2}' predstavljeno kot:\\nSeznam bajtov: {list(sporocilo2_utf8)}\\nŠestnajstiški niz: {sporocilo2_utf8.hex()}\")"
   ]
  },
  {
   "cell_type": "markdown",
   "metadata": {},
   "source": [
    "Tako npr. prva dva znaka (`64`) predstavljata šestnajstiški zapis števila `100` ($100 = 6 \\cdot 16^1 + 4 \\cdot 16^0$), medtem ko vrednost `100` v ASCII/UTF-8 kodiranju predstavlja znak `d`\n",
    "\n",
    "Funkcija, ki deluje v obratni smeri tj. ki iz seznama bajtov zgradi niz znakov, se imenuje `bytes.decode()`. "
   ]
  },
  {
   "cell_type": "code",
   "execution_count": 24,
   "metadata": {
    "tags": []
   },
   "outputs": [
    {
     "name": "stdout",
     "output_type": "stream",
     "text": [
      "dober večer\n"
     ]
    }
   ],
   "source": [
    "bajti = b'dober ve\\xc4\\x8der'\n",
    "print(bajti.decode(\"utf8\"))"
   ]
  },
  {
   "cell_type": "markdown",
   "metadata": {},
   "source": [
    "Kodiranje celih števil je preprosteje: le uporabimo [funkcijo `int.to_bytes()`](https://docs.python.org/3/library/stdtypes.html#int.to_bytes) Funkciji moramo podati vsaj 2 argumenta: število bajtov, ki se naj uporabijo za kodiranje (tj. dolžina) in pravilo po katerem so bajti urejeni tj. ali gre za pravilo debelega ali tankega konca (`big` ali `little`). Opcijsko lahko nastavimo še, ali gre za predznačeno število."
   ]
  },
  {
   "cell_type": "code",
   "execution_count": 11,
   "metadata": {
    "tags": []
   },
   "outputs": [
    {
     "name": "stdout",
     "output_type": "stream",
     "text": [
      "64\n",
      "b'd'\n"
     ]
    }
   ],
   "source": [
    "stevilo = 100\n",
    "print(stevilo.to_bytes(1, 'big').hex())\n",
    "print(stevilo.to_bytes(1, 'big'))"
   ]
  },
  {
   "cell_type": "markdown",
   "metadata": {},
   "source": [
    "Včasih nas zanima, kateri številčni vrednosti (v kodiranju unikod) pripada posamezen znak. To izvemo s pomočjo funkcije `ord()`."
   ]
  },
  {
   "cell_type": "code",
   "execution_count": 12,
   "metadata": {
    "tags": []
   },
   "outputs": [
    {
     "name": "stdout",
     "output_type": "stream",
     "text": [
      "d 100\n",
      "o 111\n",
      "b 98\n",
      "e 101\n",
      "r 114\n",
      "  32\n",
      "v 118\n",
      "e 101\n",
      "č 269\n",
      "e 101\n",
      "r 114\n"
     ]
    }
   ],
   "source": [
    "for ch in \"dober večer\":\n",
    "    print(ch, ord(ch))"
   ]
  },
  {
   "cell_type": "markdown",
   "metadata": {},
   "source": [
    "Funkcija, ki deluje v obratno smer, tj. iz podane unikod vrednosti vrne pripadajoč znak, se imenuje `chr()`."
   ]
  },
  {
   "cell_type": "code",
   "execution_count": 13,
   "metadata": {
    "tags": []
   },
   "outputs": [
    {
     "name": "stdout",
     "output_type": "stream",
     "text": [
      "100 d\n",
      "111 o\n",
      "98 b\n",
      "101 e\n",
      "114 r\n",
      "32  \n",
      "118 v\n",
      "101 e\n",
      "269 č\n",
      "101 e\n",
      "114 r\n"
     ]
    }
   ],
   "source": [
    "for code in [100, 111, 98, 101, 114, 32, 118, 101, 269, 101, 114]:\n",
    "    print(code, chr(code))"
   ]
  },
  {
   "cell_type": "markdown",
   "metadata": {},
   "source": [
    "## Naloga 2: Implementacija ekskluzivne disjunkcije\n",
    "\n",
    "Implementirajte metodo `xor_bytes(s1, s2)`, ki spremje seznama bajtov, `s1` in `s1`, in vrne seznam, kjer so vrednosti posameznih bajtov izračunane kot rezultat operacije ekskluzivne disjunkcije nad posameznimi elementi seznama `s1` in `s2`.\n",
    "\n",
    "Operacija ekskluzivne disjukncije v Pythonu je mogoča z uporabo znaka `^`:\n",
    "```python\n",
    ">>> 1 ^ 2\n",
    "3\n",
    "```\n",
    "\n",
    "V sledeči celici lahko delovanje vaše funkcije preverite na treh enotskih testih. Če testi ne vrnejo napake, jih je vaša implementacija uspešno prestala."
   ]
  },
  {
   "cell_type": "code",
   "execution_count": 35,
   "metadata": {
    "tags": []
   },
   "outputs": [
    {
     "data": {
      "text/plain": [
       "b'\\x03\\x11'"
      ]
     },
     "execution_count": 35,
     "metadata": {},
     "output_type": "execute_result"
    }
   ],
   "source": [
    "def xor_bytes(s1, s2):\n",
    "    \"\"\"Izvede operacijo XOR med podanima seznamoma bajtov in vrne seznam bajtov\"\"\"\n",
    "    return bytes(a ^ b for a, b in zip(s1, s2))\n",
    "\n",
    "\n",
    "xor_bytes([1, 16], [2, 1])"
   ]
  },
  {
   "cell_type": "code",
   "execution_count": 36,
   "metadata": {
    "tags": []
   },
   "outputs": [],
   "source": [
    "assert xor_bytes([1, 2, 3], [3, 2, 1]) == bytes([2, 0, 2])\n",
    "assert xor_bytes([0, 0, 0], [3, 2, 1]) == bytes([3, 2, 1])\n",
    "assert xor_bytes([1, 1, 1], [1, 1, 1]) == bytes([0, 0, 0])"
   ]
  },
  {
   "cell_type": "markdown",
   "metadata": {},
   "source": [
    "## Naloga 3: Šifra enkratne podloge (OTP)"
   ]
  },
  {
   "cell_type": "markdown",
   "metadata": {},
   "source": [
    "Implementirajte šifrirni in dešifrirni algorite enkratne podloge. Če uporabite rešitev iz prve naloge, bo implementacija trivialno kratka."
   ]
  },
  {
   "cell_type": "code",
   "execution_count": 37,
   "metadata": {
    "tags": []
   },
   "outputs": [],
   "source": [
    "def enc_otp(key, pt):\n",
    "    \"\"\"Sifrirni algoritem enkratne podloge\"\"\"\n",
    "    return xor_bytes(key, pt)"
   ]
  },
  {
   "cell_type": "code",
   "execution_count": 38,
   "metadata": {
    "tags": []
   },
   "outputs": [],
   "source": [
    "assert enc_otp([1, 2, 3], [1, 1, 1]) == xor_bytes([1, 2, 3], [1, 1, 1])"
   ]
  },
  {
   "cell_type": "code",
   "execution_count": 39,
   "metadata": {
    "tags": []
   },
   "outputs": [],
   "source": [
    "def dec_otp(key, ct):\n",
    "    \"\"\"Desifrirni algoritem enkratne podloge\"\"\"\n",
    "    return xor_bytes(key, ct)"
   ]
  },
  {
   "cell_type": "code",
   "execution_count": 40,
   "metadata": {
    "tags": []
   },
   "outputs": [],
   "source": [
    "assert dec_otp([1, 2, 3], [1, 1, 1]) == xor_bytes([1, 2, 3], [1, 1, 1])"
   ]
  },
  {
   "cell_type": "markdown",
   "metadata": {},
   "source": [
    "## Naloga 4: Šifriranje in dešifriranje\n",
    "\n",
    "Uporabite metodi šifriranja in dešifriranja iz prejšnje naloge in zašifrirajte sporočilo `Enkratna podloga je popolno tajna šifra.` \n",
    "\n",
    "Implementacijo šifriranja podajte v telesu funkcije `example_enc()`. Za ključ uporabite vrednost `3d26ebcbc0b2ad0d15c6be1f6259fd89495451fc2245cd8dad40c480a87bbb3a7525a9ba4abb930417`. Pozor: podano vrednost ključa je potrebno prebrati kot seznam bajtov. To storite s pomočjo funkcije `bytes.fromhex(...)`."
   ]
  },
  {
   "cell_type": "code",
   "execution_count": 20,
   "metadata": {
    "tags": []
   },
   "outputs": [
    {
     "data": {
      "text/plain": [
       "b'xH\\x80\\xb9\\xa1\\xc6\\xc3l5\\xb6\\xd1{\\x0e6\\x9a\\xe8i>4\\xdcR*\\xbd\\xe2\\xc1.\\xab\\xa0\\xdc\\x1a\\xd1T\\x14\\x05l\\x1b#\\xdd\\xe1e9'"
      ]
     },
     "execution_count": 20,
     "metadata": {},
     "output_type": "execute_result"
    }
   ],
   "source": [
    "def example_enc():\n",
    "    msg = \"Enkratna podloga je popolno tajna šifra.\"\n",
    "    key = bytes.fromhex(\"3d26ebcbc0b2ad0d15c6be1f6259fd89495451fc2245cd8dad40c480a87bbb3a7525a9ba4abb930417\")\n",
    "    return enc_otp(key, msg.encode(\"utf8\"))\n",
    "\n",
    "example_enc()"
   ]
  },
  {
   "cell_type": "code",
   "execution_count": 41,
   "metadata": {
    "tags": []
   },
   "outputs": [],
   "source": [
    "assert example_enc().hex() == \"784880b9a1c6c36c35b6d17b0e369ae8693e34dc522abde2c12eaba0dc1ad15414056c1b23dde16539\""
   ]
  },
  {
   "cell_type": "markdown",
   "metadata": {},
   "source": [
    "V telesu funkcije `example_dec()` dešifrirajte sporočilo `784880b9a1c6c36c35b6d17b0e369ae8693e34dc522abde2c12eaba0dc1ad15414056c1b23dde16539` in pri tem uporabite isti ključ kot ste ga pri šifriranju."
   ]
  },
  {
   "cell_type": "code",
   "execution_count": 23,
   "metadata": {
    "tags": []
   },
   "outputs": [
    {
     "data": {
      "text/plain": [
       "'Enkratna podloga je popolno tajna šifra.'"
      ]
     },
     "execution_count": 23,
     "metadata": {},
     "output_type": "execute_result"
    }
   ],
   "source": [
    "def example_dec():\n",
    "    ct = bytes.fromhex(\"784880b9a1c6c36c35b6d17b0e369ae8693e34dc522abde2c12eaba0dc1ad15414056c1b23dde16539\")\n",
    "    key = bytes.fromhex(\"3d26ebcbc0b2ad0d15c6be1f6259fd89495451fc2245cd8dad40c480a87bbb3a7525a9ba4abb930417\")\n",
    "    return dec_otp(key, ct)\n",
    "\n",
    "example_dec().decode(\"utf8\")"
   ]
  },
  {
   "cell_type": "code",
   "execution_count": 42,
   "metadata": {
    "tags": []
   },
   "outputs": [],
   "source": [
    "assert example_dec().decode(\"utf8\") == \"Enkratna podloga je popolno tajna šifra.\""
   ]
  },
  {
   "cell_type": "markdown",
   "metadata": {},
   "source": [
    "## Naloga 5: Napad na večkratno podlogo\n",
    "\n",
    "Poglejmo, kaj lahko naredi napadalec, če isto podlogo uporabimo za šifriranje več sporočil."
   ]
  },
  {
   "cell_type": "markdown",
   "metadata": {},
   "source": [
    "### Naloga 5.1: Delno dešifriranje\n",
    "\n",
    "Za začetek si pripravimo implementacijo dešifriranega algoritma, ki dešifrira tajnopis tudi, če nam kakšen del ključa manjka. Dešifrirani algoritem naj dešifrira kot običajno, edina izjema so znaki, ki je vrednost ključa enaka 0. V tem primeru, naj kot pripadajoč znak v tajnopisu nastavi vrednost `*`."
   ]
  },
  {
   "cell_type": "code",
   "execution_count": 48,
   "metadata": {
    "tags": []
   },
   "outputs": [
    {
     "data": {
      "text/plain": [
       "'**kratna podloga je **polno tajna šifr**'"
      ]
     },
     "execution_count": 48,
     "metadata": {},
     "output_type": "execute_result"
    }
   ],
   "source": [
    "def dec_otp_partial(key, ct):\n",
    "    \"\"\"Desifrira samo tiste znake, kjer kljuc ni 0 -- ce je, kot znak nastavi simbol *\"\"\"\n",
    "    return bytes(k ^ c if k > 0 else ord(\"*\")  for k, c in zip(key, ct))\n",
    "\n",
    "dec_otp_partial(\n",
    "    bytes.fromhex(\"0000ebcbc0b2ad0d15c6be1f6259fd89495451fc0000cd8dad40c480a87bbb3a7525a9ba4abb930000\"),\n",
    "    bytes.fromhex(\"784880b9a1c6c36c35b6d17b0e369ae8693e34dc522abde2c12eaba0dc1ad15414056c1b23dde16539\")\n",
    ").decode(\"utf8\")"
   ]
  },
  {
   "cell_type": "code",
   "execution_count": 49,
   "metadata": {
    "tags": []
   },
   "outputs": [],
   "source": [
    "assert dec_otp_partial([1, 0, 1], [2, 2, 2]) == bytes([3, ord(\"*\"), 3])\n",
    "assert dec_otp_partial([1, 1, 1], [2, 2, 2]) == dec_otp([1, 1, 1], [2, 2, 2])"
   ]
  },
  {
   "cell_type": "markdown",
   "metadata": {},
   "source": [
    "### Tajnopisi\n",
    "\n",
    "Tajnopisi so shranjeni v binarni obliki v datotekah `data/ct_i.bin`. Preberimo jih z diska."
   ]
  },
  {
   "cell_type": "code",
   "execution_count": 85,
   "metadata": {
    "tags": []
   },
   "outputs": [
    {
     "name": "stdout",
     "output_type": "stream",
     "text": [
      "Izpis prvih 50 bajtov tajnopisa šestnajstiško\n",
      "Tajnopis 0, dolžina 109:  03aec6ad3319a165f3cc645e758cf996232d4dfa3f0bbf22dc02ddff023fd79d8a36878d18a043e108568a1879ecdda7cffd...\n",
      "Tajnopis 1, dolžina 109:  03a9c6a13f57bb63fd9a6b552682e0c4363a51f5315db23ec943d8f10235988a8a36898914f041e70a4ddf0672e292f1d1f0...\n",
      "Tajnopis 2, dolžina 109:  03aec6ad3319a165f3cc675634c9e88b3f2d51f53f59a83bc943deec47219e938a2dcb8c14f05ef70b5cc61e75abdce681ec...\n",
      "Tajnopis 3, dolžina 109:  00adc0b63319a779f382645e7593eec43f3151e73b45b835860ad1e84b3796c78621cb8518a34ff60319d91873fdd3e9c8bc...\n",
      "Tajnopis 4, dolžina 109:  00b0dfb23557a26ab28e67573ac9e689297d4be13159ba32ca09cef04d658d86cf3f999d1ca644fd464ddc1b6ee9dda7c7f9...\n",
      "Tajnopis 5, dolžina 109:  03aec6ad3719bb64fbcc7e49308de18d27341ef53f45ba23c809c2f602369b88993e858418a60ae10919d9113ce5d3a7c8f0...\n",
      "Tajnopis 6, dolžina 109:  1fa9c6b73f57a46ae68d2e4f3c9ae0876c2e51b13c42b739860dcaee4b369689867b899514aa43fc1552c3546ffbddeac4f2...\n",
      "Tajnopis 7, dolžina 109:  06e2d9b43b1ba96bfbcc605a2786eb8b3a7d4dfe7e46be348610dffb542c9b89863682c713b158fd02508a0069efdba7d2f0...\n",
      "Tajnopis 8, dolžina 109:  17a7c6bc2416ae7cf9832e573093e6c43f3151e73b45b23ac743ddbe51379283813182c718a658fd16508a1b66e2c0e8ccfd...\n",
      "Tajnopis 9, dolžina 109:  1ea3c3ad3314e87cfe83785e3b9ae4812b3c1ee1315da923cc028bed473683869937818617bf0af90754c41d72ee92eedbbc...\n"
     ]
    }
   ],
   "source": [
    "def load_cts():\n",
    "    cipher_texts = []\n",
    "    for i in range(10):\n",
    "        with open(f\"data/ct_{i}.bin\", \"rb\") as h:\n",
    "            cipher_texts.append(h.read())\n",
    "    return cipher_texts\n",
    "\n",
    "cipher_texts = load_cts()\n",
    "\n",
    "print(\"Izpis prvih 50 bajtov tajnopisa šestnajstiško\")\n",
    "for i, c in enumerate(cipher_texts):\n",
    "    print(f\"Tajnopis {i}, dolžina {len(c)}:  {c.hex()[:100]}...\")"
   ]
  },
  {
   "cell_type": "markdown",
   "metadata": {},
   "source": [
    "Opazimo, da so vsi tajnopisi dolgi 109 bajtov. \n",
    "\n",
    "Vaša naloga je, da ugotovite ključ in z njim dešifrirajte sporočila. Pri tem lahko upoštevate še, da so sporočila v Slovenščini ter sestojijo le iz malih črk in presledkov: šumniki, števke in vsa ostala ločila so odstranjeni."
   ]
  },
  {
   "cell_type": "markdown",
   "metadata": {},
   "source": [
    "### Naloga 5.2: Funkcija `multiple_xor(pos, cts)`\n",
    "\n",
    "Implementirajte metodo `multiple_xor(pos, cts)`, ki na vhodu prejme pozicijo znaka v tajnopisu in seznam vseh tajnopisov. Metoda nato vrne bajt ključa oz. vrednost 0, če določi, da bajta v ključu na dani poziciji ni mogoče ugotoviti.\n",
    "\n",
    "Namig: implementacija je dokaj kratka, če uporabite vgrajeno funkcijo `forall`. V nasprotnem primeru boste potrebovali z vgnezdeno zanko."
   ]
  },
  {
   "cell_type": "code",
   "execution_count": 86,
   "metadata": {
    "tags": []
   },
   "outputs": [
    {
     "name": "stdout",
     "output_type": "stream",
     "text": [
      "*l***ni*a j* e*ropska **zava z zemlj*pi*no lego na *krajnem *e*er* s*edozemlj* in na *kr*jnem *ug* sred*je e*\n",
      "*k*** s*ove*sk* zgodov**o so pomembn* k*lturni vpli*i prihaj*l* i* s*ednjeevr*pskega *n *penin*ke*a kul*urne*\n",
      "*l***ni*a i*a *ospodar**o ureditev k* t*melji na pr*stem trg* *da* j* po medn*rodnih *er*lih u*rs*ena m*d dr*\n",
      "*o***no*anj* z* sloven** izvira iz b*se*e slovani i*vor te p* *e *ej*sen je i*peljank* i* kore*a *lov k* je *\n",
      "*r*** j* bi*o *me upor**ljeno za drz*vn* tvorbo fed*ralna sl*v*ni*a *i je po *klepu z*se*anja *lo*enske*a na*\n",
      "*l***ns*i p*ed*iki dan**njih slovenc*v *o se na ili*sko ozem*j* s*ov*nije nas*lili v *es*em st*le*ju v *edme*\n",
      "*k*** l*ta *is*c so bi** napisani br*zi*ski spomeni*i prvi p*s*i *ok*ment v s*ovensci*i *n prv* s*ovans*i za*\n",
      "* ***la*i n*ro*ov so m** stevilnimi *ar*di tudi slo*enci s p*l*ti*ni* program*m zahte*al* zedi*je*o slo*enij*\n",
      "*e***af*ko *ez* sloven**a v srednji *vr*pi oziroma * jugovzh*d*i *vr*pi na st*ciscu a*p *inars*eg* gors*va p*\n",
      "*a***c *lov*ns*ega pov**ja sestavlja*o *amnine iz c*sa mezoz*i*a *pn*nec dolo*it in k*no*oika *or*j ter*iarj*\n"
     ]
    }
   ],
   "source": [
    "def multiple_xor1(pos, cts):\n",
    "    for c1 in cts:\n",
    "        if all(c1[pos] ^ c2[pos] >= 65 or c1[pos] ^ c2[pos] == 0 for c2 in cts if c2 != c1):\n",
    "            return c1[pos] ^ ord(' ')\n",
    "    \n",
    "    return 0\n",
    "\n",
    "def multiple_xor(pos, cts):\n",
    "    # na dani poziciji znak tajnopisa paroma XORamo z istoleznim znakom v vsakem drugem tajnopisu\n",
    "    # ce se za nek znak izkaze, da je rezultat te operacije vedno vrednost >= 65 ali == 0\n",
    "    # potem je znak na dani poziciji presledek\n",
    "    # znak XOR-amo s presledkom, dobimo kljuc in ga vrnemo\n",
    "    # v nasprotnem primeru za znak kljuca vrnemo vrednost 0\n",
    "    for c1 in cts:\n",
    "        is_c1_space = True\n",
    "        \n",
    "        for c2 in cts:\n",
    "            if c1 == c2:\n",
    "                continue\n",
    "            \n",
    "            if 0 < c1[pos] ^ c2[pos] < 65:\n",
    "                is_c1_space = False\n",
    "            \n",
    "        if is_c1_space:\n",
    "            return c1[pos] ^ ord(' ')    \n",
    "\n",
    "    return 0\n",
    "\n",
    "def guess_key(ciphertexts):\n",
    "    key = bytearray(len(ciphertexts[0]))\n",
    "\n",
    "    for i in range(len(ciphertexts[0])):\n",
    "        key[i] = multiple_xor1(i, ciphertexts)\n",
    "    return key\n",
    "\n",
    "\n",
    "gk = guess_key(cipher_texts)\n",
    "for c in cipher_texts:\n",
    "    print(dec_otp_partial(gk, c).decode(\"ascii\"))"
   ]
  },
  {
   "cell_type": "markdown",
   "metadata": {},
   "source": [
    "Nekatere bajte v ključih ugotovi algoritem, ostale pa poskusite dopolniti sami. "
   ]
  },
  {
   "cell_type": "markdown",
   "metadata": {},
   "source": [
    "## Naloga 6: Gnetljivost tajnopisa\n",
    "\n",
    "Pri zadnji nalogi bomo kot napadalec spremenili tajnopis, tako da bo sprememba vidna v čistopisu. Zgodba je sledeča.\n",
    "\n",
    "Ana želi poslati zaupno pošto Boru, vas, ki igrate vlogo napadalca Nandija, pa vsebina sporočila _zares_ zanima.\n",
    "\n",
    "Na srečo vam gre nekaj reči na roko. \n",
    "\n",
    "Prvič, Anin računalnik nima internetne povezave, vaš mobilni telefon pa. Zato ji prijazno ponudite, da zanjo postavite mobilno dostopno točko, preko katere se bo lahko povezala v internet in dostopala do poštnega strežnika. Poštni strežnik bo nato sporočilo dostavil Boru. \n",
    "\n",
    "Ana in Bor uporabljata poseben protokol za pošto: protokol FMTP -- Funny Mail Transfer Protocol.  Gre za preprost besedilno-osnovan protokol: prva vrstica označuje naslov prejemnika, druga naslov pošiljatelja, tretja zadevo, četrta je vedno prazna in na koncu je sporočilo.\n",
    "\n",
    "Vse, kar mora Anin poštni odjemalec storiti, da pošlje sporočilo, je, da strežniku FMTP dostavi besedilni niz, podoben naslednjemu.\n",
    "\n",
    "```txt\n",
    "prejemnik@enadomena.com\n",
    "posiljatelj@drugadomena.com\n",
    "Zadeva sporocila\n",
    "\n",
    "<Samo sporocilo>\n",
    "```\n",
    "\n",
    "Vse morebitne predhodne ali zaključne presledke v vsaki vrstici poštni strežnik ignorira oz. odstrani pred obdelavo. Na primer, e-pošto zgoraj bi lahko napisali kot spodnjo in ne bi bilo nobene razlike.\n",
    "\n",
    "\n",
    "```txt\n",
    "                    prejemnik@enadomena.com               \n",
    "    posiljatelj@drugadomena.com                    \n",
    "Zadeva sporocila\n",
    "\n",
    "<Samo sporocilo>\n",
    "```\n",
    "\n",
    "Tretjič, Ana vam v dobri veri -- kakšna naivnost! -- pove, da pošilja elektronsko sporočilo Boru in da uporablja protokol FMTP. (Torej poznate strukturo sporočila in vsebino prve vrstice čistopisa.)\n",
    "\n",
    "Četrtič, Ana uporablja enkratno podlogo, mehanizmov za zagotavljanje celovitosti pa ni.\n",
    "\n",
    "Ker nastopate v vlogi **posrednika**, lahko sedaj spremenite sporočilo tako, da strežnik FMTP ne bo poslal pošte Boru, temveč jo bo poslal na naslov, ki ga nadzirate vi, npr. `nandi@obvlada.si`."
   ]
  },
  {
   "cell_type": "code",
   "execution_count": 71,
   "metadata": {
    "tags": []
   },
   "outputs": [],
   "source": [
    "# Ana in Bor si enkrat tedensko v zivo izmenjata 1000 bajtov\n",
    "# nakljucnih vrednosti za morebitne potrebe sifriranja\n",
    "ana_bor_psk = gen_key(1000)"
   ]
  },
  {
   "cell_type": "code",
   "execution_count": 73,
   "metadata": {
    "tags": []
   },
   "outputs": [
    {
     "name": "stdout",
     "output_type": "stream",
     "text": [
      "Ana pošilja šifrirano sporočilo na strežnik\n",
      "Tajnopis (HEX): 26a1693affc389cdbe48497f04f7cd983b3de45adc7aff0feb72d29ec77cb35d2673b777f51672e41f8b982303403066c19743de8cf46cc4c20c9492317b68d295f031c3ccacdc4d7156\n"
     ]
    }
   ],
   "source": [
    "# Ana pripravi sporočilo\n",
    "email = \"\"\"bor@student.uni-lj.si\n",
    "ana@student.uni-lj.si\n",
    "Hej\n",
    "\n",
    "Na faksu si pozabil kapo.\"\"\".strip()\n",
    "\n",
    "# In ga šifrira z enkratno podlogo\n",
    "ct = enc_otp(ana_bor_psk, email.encode(\"utf8\"))\n",
    "\n",
    "# Nato ga pošlje (to simuliramo) na streznik FMTP\n",
    "print(\"Ana pošilja šifrirano sporočilo na strežnik\")\n",
    "print(\"Tajnopis (HEX):\", ct.hex())"
   ]
  },
  {
   "cell_type": "markdown",
   "metadata": {},
   "source": [
    "Sedaj je na potezi napadalec Nandi.\n",
    "\n",
    "Implementirajte funckijo `change_ct(ct, new_email)`, ki na vhodu prejme tajnopis in email naslov. Spremenite tajnopis tako, da ga bo strežnik FMTP še vedno brez dešifriral, a kot prejemnik ne bo naveden Bor, temveč email naslov, ki je podan v argumentu `new_email`. Predpostavite lahko, da bo `new_email` vedno krajši ali enak od naslova `bor@student.uni-lj.si`."
   ]
  },
  {
   "cell_type": "code",
   "execution_count": 83,
   "metadata": {
    "tags": []
   },
   "outputs": [],
   "source": [
    "def change_ct(ct, new_email):\n",
    "    cur = \"bor@student.uni-lj.si\"\n",
    "    new_email = new_email.ljust(len(cur))\n",
    "    \n",
    "    l = bytearray(ct)\n",
    "    \n",
    "    for i, (c, n) in enumerate(zip(cur, new_email)):\n",
    "        l[i] = l[i] ^ ord(c) ^ ord(n)\n",
    "        \n",
    "    return l"
   ]
  },
  {
   "cell_type": "markdown",
   "metadata": {},
   "source": [
    "Z poganjanjem spodnje celice lahko preverite, ali vaša funkcija deluje pravilno. "
   ]
  },
  {
   "cell_type": "code",
   "execution_count": 82,
   "metadata": {
    "tags": []
   },
   "outputs": [
    {
     "name": "stdout",
     "output_type": "stream",
     "text": [
      "Streznik FMTP prejel sporocilo: 2aaf751ee5f793cbad4a5c3510b7d7dc7777ea09957aff0feb72d29ec77cb35d2673b777f51672e41f8b982303403066c19743de8cf46cc4c20c9492317b68d295f031c3ccacdc4d7156\n",
      "Desifrirano sporocilo:\n",
      "nandi@obvlada.si     \n",
      "ana@student.uni-lj.si\n",
      "Hej\n",
      "\n",
      "Na faksu si pozabil kapo.\n"
     ]
    }
   ],
   "source": [
    "def fmtp_receive(key, ct):\n",
    "    print(\"Streznik FMTP prejel sporocilo:\", ct.hex())\n",
    "    pt = dec_otp(key, ct)\n",
    "    print(\"Desifrirano sporocilo:\")\n",
    "    print(pt.decode(\"utf8\"))\n",
    "\n",
    "fmtp_receive(ana_bor_psk, change_ct(ct, \"nandi@obvlada.si\"))"
   ]
  }
 ],
 "metadata": {
  "kernelspec": {
   "display_name": "Python 3 (ipykernel)",
   "language": "python",
   "name": "python3"
  },
  "language_info": {
   "codemirror_mode": {
    "name": "ipython",
    "version": 3
   },
   "file_extension": ".py",
   "mimetype": "text/x-python",
   "name": "python",
   "nbconvert_exporter": "python",
   "pygments_lexer": "ipython3",
   "version": "3.10.12"
  }
 },
 "nbformat": 4,
 "nbformat_minor": 4
}
