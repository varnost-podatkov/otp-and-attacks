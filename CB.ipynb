{
 "cells": [
  {
   "cell_type": "markdown",
   "metadata": {},
   "source": [
    "https://crypto.stackexchange.com/questions/2249/how-does-one-attack-a-two-time-pad-i-e-one-time-pad-with-key-reuse"
   ]
  },
  {
   "cell_type": "markdown",
   "metadata": {},
   "source": [
    "#### WARNING: DO NOT DO INVENT NOR IMPLEMENT YOUR OWN CRYPTO\n",
    "This is for demonstration purposes and OTP attack game only!"
   ]
  },
  {
   "cell_type": "code",
   "execution_count": 1,
   "metadata": {
    "tags": []
   },
   "outputs": [],
   "source": [
    "import secrets"
   ]
  },
  {
   "cell_type": "code",
   "execution_count": 2,
   "metadata": {
    "tags": []
   },
   "outputs": [],
   "source": [
    "def gen_key(length):\n",
    "    \"\"\"Vrne nakljucni niz bajtov podane dolzine\"\"\"\n",
    "    return secrets.token_bytes(length)"
   ]
  },
  {
   "cell_type": "code",
   "execution_count": 3,
   "metadata": {
    "tags": []
   },
   "outputs": [],
   "source": [
    "def xor_bytes(s1, s2):\n",
    "    \"\"\"Izvede operacijo XOR med podanima seznamoma bajtov in vrne seznam bajtov\"\"\"\n",
    "    return bytes(a ^ b for a, b in zip(s1, s2))"
   ]
  },
  {
   "cell_type": "code",
   "execution_count": 147,
   "metadata": {
    "tags": []
   },
   "outputs": [],
   "source": [
    "assert xor_bytes([1, 2, 3], [3, 2, 1]) == bytes([2, 0, 2])\n",
    "assert xor_bytes([0, 0, 0], [3, 2, 1]) == bytes([3, 2, 1])\n",
    "assert xor_bytes([1, 1, 1], [1, 1, 1]) == bytes([0, 0, 0])"
   ]
  },
  {
   "cell_type": "code",
   "execution_count": 4,
   "metadata": {
    "tags": []
   },
   "outputs": [],
   "source": [
    "def enc_otp(key, pt):\n",
    "    \"\"\"Sifrirni algoritem enkratne podloge\"\"\"\n",
    "    return xor_bytes(key, pt)"
   ]
  },
  {
   "cell_type": "code",
   "execution_count": 150,
   "metadata": {
    "tags": []
   },
   "outputs": [],
   "source": [
    "assert enc_otp([1, 2, 3], [1, 1, 1]) == xor_bytes([1, 2, 3], [1, 1, 1])"
   ]
  },
  {
   "cell_type": "code",
   "execution_count": 152,
   "metadata": {
    "tags": []
   },
   "outputs": [],
   "source": [
    "def dec_otp(key, ct):\n",
    "    \"\"\"Desifrirni algoritem enkratne podloge\"\"\"\n",
    "    return xor_bytes(key, ct)"
   ]
  },
  {
   "cell_type": "code",
   "execution_count": 151,
   "metadata": {
    "tags": []
   },
   "outputs": [],
   "source": [
    "assert dec_otp([1, 2, 3], [1, 1, 1]) == xor_bytes([1, 2, 3], [1, 1, 1])"
   ]
  },
  {
   "cell_type": "code",
   "execution_count": 154,
   "metadata": {
    "tags": []
   },
   "outputs": [],
   "source": [
    "def dec_otp_partial(key, ct):\n",
    "    \"\"\"Desifrira samo tiste znake, kjer kljuc ni 0 -- ce je, kot znak nastavi *\"\"\"\n",
    "    return bytes(k ^ c if k > 0 else ord(\"*\")  for k, c in zip(key, ct))"
   ]
  },
  {
   "cell_type": "code",
   "execution_count": 158,
   "metadata": {
    "tags": []
   },
   "outputs": [],
   "source": [
    "assert dec_otp_partial([1, 0, 1], [2, 2, 2]) == bytes([3, ord(\"*\"), 3])\n",
    "assert dec_otp_partial([1, 1, 1], [2, 2, 2]) == dec_otp([1, 1, 1], [2, 2, 2])"
   ]
  },
  {
   "cell_type": "code",
   "execution_count": 160,
   "metadata": {
    "tags": []
   },
   "outputs": [],
   "source": [
    "import string"
   ]
  },
  {
   "cell_type": "code",
   "execution_count": 201,
   "metadata": {
    "tags": []
   },
   "outputs": [],
   "source": [
    "def prepare_pt():\n",
    "    def normalize(msg):\n",
    "        msg = msg.lower()\n",
    "        msg = msg.replace(\"č\", \"c\")\n",
    "        msg = msg.replace(\"š\", \"s\")\n",
    "        msg = msg.replace(\"ž\", \"z\")\n",
    "        msg = \" \".join(msg.split())\n",
    "        return \"\".join(x for x in msg if x in 'abcdefghijklmnoprstuvz ')\n",
    "\n",
    "    data = [\n",
    "    \"Slovenija je evropska država z zemljepisno lego na skrajnem severu Sredozemlja in na skrajnem jugu Srednje Evrope\",\n",
    "    \"Skozi slovensko zgodovino so pomembni kulturni vplivi prihajali iz srednjeevropskega in apeninskega kulturnega prostora.\",\n",
    "    \"Slovenija ima gospodarsko ureditev, ki temelji na prostem trgu, zdaj je po mednarodnih merilih uvrščena med države z zelo visokim indeksom človekovega razvoja\",\n",
    "    \"Poimenovanje za Slovence izvira iz besede Slovani izvor te pa je nejasen je izpeljanka iz korena slov ki je med drugim ohranjen v nekaterih vodnih imenih širom vzhodne Evrope\",\n",
    "    \"Prvič je bilo ime uporabljeno za državno tvorbo Federalna Slovenija, ki je po sklepu zasedanja Slovenskega narodnoosvobodilnega sveta pristopila v Demokratično federativno Jugoslavijo\",\n",
    "    \"Slovanski predniki današnjih Slovencev so se na ilirsko ozemlje Slovenije naselili v sestem stoletju. V sedmem stoletju se je oblikovala Karantanija, prva država alpskih Slovanov.\",\n",
    "    \"Okoli leta tisoc so bili napisani Brižinski spomeniki, prvi pisni dokument v slovenščini in prvi slovanski zapis v latinici.\",\n",
    "    \"V Pomladi narodov so med številnimi narodi tudi Slovenci s političnim programom zahtevali Zedinjeno Slovenijo\",\n",
    "    \"Geografsko leži Slovenija v srednji Evropi oziroma v jugovzhodni Evropi na stičišču Alp, Dinarskega gorstva, Panonske nižine in Sredozemlja.\",\n",
    "    \"Največ slovenskega površja sestavljajo kamnine iz časa, mezozoika (apnenec, dolomit) in kenozoika, torej terciarja (lapor, peščenjak, fliš) in kvartarja (prod, pesek, glina, konglomerat).\",\n",
    "    #\"Tole je pa sedaj 1, 2, 3, 4 zelo zanimivo. Tole je pa sedaj 1, 2, 3, 4 zelo zanimivo. Tole je pa sedaj 1, 2, 3, 4 zelo zanimivo. zelo zanimivo. zelo zanimivo.\"\n",
    "    ]\n",
    "    # target = \"ce sifriras z enkratno podlogo, ne uporabi istega kljuce vec kot enkrat\"\n",
    "    length = len(min(data, key=lambda x:len(x)))\n",
    "    return [normalize(s)[:length] for s in data]"
   ]
  },
  {
   "cell_type": "code",
   "execution_count": 202,
   "metadata": {
    "tags": []
   },
   "outputs": [],
   "source": [
    "plain_texts = prepare_pt()\n",
    "secret_key = gen_key(len(max(plain_texts, key=lambda x:len(x))))\n",
    "cipher_texts = [enc_otp(secret_key, pt.encode(\"utf-8\")) for pt in plain_texts]"
   ]
  },
  {
   "cell_type": "markdown",
   "metadata": {},
   "source": [
    "### Nekaj namigov\n",
    "- Kodiranje je ASCII. V abecedi ni šumnikov, števk in ločilČ imamo le (male tiskane) črke in presledek\n",
    "- Pri črki bo bit 6 vedno nastavljen. To pomeni, da je vsaka črka zakodirana z znakom, ki je > 64\n",
    "- Pri presledku je bit 6 vedno nenastavljen. Presledek in ASCII vrednost 32\n",
    "- Ko naredimo XOR črke in presledka bo bit 6 nastavljen. Torej če je ASCII vrednost v $d$ nad 64, to pomeni, da gledamo vrednost, ki je nastala z XOR presledka in neke črke: Če XOR-amo 32 (presledek) dobimo črko v enem čistopisu (sicer ne vemo katerem)\n",
    "\n",
    "\n",
    "| $\\oplus$       | A-Z (65-90) | presledek (32) |\n",
    "| ---------------|-------------|----------------|\n",
    "| A-Z (65-90)    |    $\\leq 32$  |    $\\geq 65$     |\n",
    "| Presledek (32) |    $\\geq 65$  |       $0$      |"
   ]
  },
  {
   "cell_type": "raw",
   "metadata": {},
   "source": [
    "def guess_key_old(ciphertexts):\n",
    "    key = bytearray(len(ciphertexts[0]))\n",
    "\n",
    "    for k in range(len(ciphertexts[0])):\n",
    "        guess = None\n",
    "\n",
    "        for i, c1 in enumerate(ciphertexts):\n",
    "            for j, c2 in enumerate(ciphertexts):\n",
    "                print(k, i, j)\n",
    "                if c1 == c2:\n",
    "                    continue\n",
    "\n",
    "                if 0 < c1[k] ^ c2[k] < 65:\n",
    "                    print(\"break: < 65\")\n",
    "                    guess = ord('?')\n",
    "                    break\n",
    "\n",
    "                guess = ' '\n",
    "            \n",
    "            if guess == ' ': \n",
    "                key[k] = c1[k] ^ ord(' ')\n",
    "                print(k, i, j, \"break: found SPACE\")\n",
    "                #print(\"break: found SPACE\")\n",
    "                break\n",
    "        \n",
    "    return key"
   ]
  },
  {
   "cell_type": "code",
   "execution_count": 203,
   "metadata": {
    "tags": []
   },
   "outputs": [
    {
     "name": "stdout",
     "output_type": "stream",
     "text": [
      "0.7889908256880734\n",
      "*l***ni*a j* e*ropska **zava z zemlj*pi*no lego na *krajnem *e*er* s*edozemlj* in na *kr*jnem *ug* sred*je e*\n"
     ]
    }
   ],
   "source": [
    "def multiple_xor1(pos, cts):\n",
    "    for c1 in cts:\n",
    "        if all(c1[pos] ^ c2[pos] >= 65 or c1[pos] ^ c2[pos] == 0 for c2 in cts if c2 != c1):\n",
    "            return c1[pos] ^ ord(' ')\n",
    "    \n",
    "    return 0\n",
    "\n",
    "def multiple_xor(pos, cts):\n",
    "    # na dani poziciji znak tajnopisa paroma XORamo z istoleznim znakom v vsakem drugem tajnopisu\n",
    "    # ce se za nek znak izkaze, da je rezultat te operacije vedno vrednost >= 65 ali == 0\n",
    "    # potem znak na dani poziciji presledek\n",
    "    # znak XOR-amo s presledkom in dobimo kljuc in ga vrnemo\n",
    "    # sicer za znak kljuca vrnemo vrednost 0\n",
    "    for c1 in cts:\n",
    "        is_c1_space = True\n",
    "        \n",
    "        for c2 in cts:\n",
    "            if c1 == c2:\n",
    "                continue\n",
    "            \n",
    "            if 0 < c1[pos] ^ c2[pos] < 65:\n",
    "                is_c1_space = False\n",
    "            \n",
    "        if is_c1_space:\n",
    "            return c1[pos] ^ ord(' ')    \n",
    "\n",
    "    return 0\n",
    "\n",
    "def guess_key(ciphertexts):\n",
    "    key = bytearray(len(ciphertexts[0]))\n",
    "\n",
    "    for i in range(len(ciphertexts[0])):\n",
    "        key[i] = multiple_xor1(i, ciphertexts)\n",
    "    return key\n",
    "\n",
    "\n",
    "gk = guess_key(cipher_texts)\n",
    "print(sum(1 for a, g in zip(secret_key, gk) if a == g) / len(secret_key))\n",
    "print(dec_otp_partial(gk, cipher_texts[0]).decode(\"ascii\"))"
   ]
  },
  {
   "cell_type": "code",
   "execution_count": 208,
   "metadata": {
    "tags": []
   },
   "outputs": [
    {
     "name": "stdout",
     "output_type": "stream",
     "text": [
      "slovenija j* e*ropska **zava z zemlj*pi*no lego na *krajnem *e*er* s*edozemlj* in na *kr*jnem *ug* sred*je e*\n",
      "skozi slove*sk* zgodov**o so pomembn* k*lturni vpli*i prihaj*l* i* s*ednjeevr*pskega *n *penin*ke*a kul*urne*\n",
      "slovenija i*a *ospodar**o ureditev k* t*melji na pr*stem trg* *da* j* po medn*rodnih *er*lih u*rs*ena m*d dr*\n",
      "poimenovanj* z* sloven** izvira iz b*se*e slovani i*vor te p* *e *ej*sen je i*peljank* i* kore*a *lov k* je *\n",
      "prvic je bi*o *me upor**ljeno za drz*vn* tvorbo fed*ralna sl*v*ni*a *i je po *klepu z*se*anja *lo*enske*a na*\n",
      "slovanski p*ed*iki dan**njih slovenc*v *o se na ili*sko ozem*j* s*ov*nije nas*lili v *es*em st*le*ju v *edme*\n",
      "okoli leta *is*c so bi** napisani br*zi*ski spomeni*i prvi p*s*i *ok*ment v s*ovensci*i *n prv* s*ovans*i za*\n",
      "v pomladi n*ro*ov so m** stevilnimi *ar*di tudi slo*enci s p*l*ti*ni* program*m zahte*al* zedi*je*o slo*enij*\n",
      "geografsko *ez* sloven**a v srednji *vr*pi oziroma * jugovzh*d*i *vr*pi na st*ciscu a*p *inars*eg* gors*va p*\n",
      "najvec slov*ns*ega pov**ja sestavlja*o *amnine iz c*sa mezoz*i*a *pn*nec dolo*it in k*no*oika *or*j ter*iarj*\n"
     ]
    }
   ],
   "source": [
    "for c in cipher_texts:\n",
    "    print(dec_otp_partial(gk, c).decode(\"ascii\"))"
   ]
  },
  {
   "cell_type": "code",
   "execution_count": 207,
   "metadata": {
    "tags": []
   },
   "outputs": [],
   "source": [
    "gk[0] = cipher_texts[0][0] ^ ord(\"s\")\n",
    "gk[2] = cipher_texts[0][2] ^ ord(\"o\")\n",
    "gk[3] = cipher_texts[0][3] ^ ord(\"v\")\n",
    "gk[4] = cipher_texts[0][4] ^ ord(\"e\")\n",
    "gk[7] = cipher_texts[0][7] ^ ord(\"j\")"
   ]
  },
  {
   "cell_type": "markdown",
   "metadata": {},
   "source": [
    "### Gnetljivost tajnopisa\n",
    "\n",
    "Ana želi poslati zaupno pošto Boru, vas, ki igrate vlogo napadalca Nandija, pa vsebina sporočila _zares_ zanima.\n",
    "\n",
    "Na srečo vam gre nekaj reči na roko. \n",
    "\n",
    "Prvič, Anin računalnik nima internetne povezave, vaš mobilni telefon pa. Zato ji prijazno ponudite, da zanjo postavite mobilno dostopno točko, preko katere se bo lahko povezala v internet in dostopala do poštnega strežnika FMTP.\n",
    "\n",
    "Protokol FMTP je najnovejši protokol pošiljanje elektronske pošte. Kratica pomeni Funny Mail Transfer Protocol in gre za preprost protokol, ki je besedilno osnovan: prva vrstica označuje naslov prejemnika, druga naslov pošiljatelja, tretja zadevo, četrta je vedno prazna in na koncu je sporočilo.\n",
    "\n",
    "Vse, kar mora Anin poštni odjemalec storiti, da pošlje e-pošto, je, da strežniku FMTP dostavi niz, podoben naslednjemu.\n",
    "\n",
    "```txt\n",
    "prejemnik@enadomena.com\n",
    "posiljatelj@drugadomena.com\n",
    "Zadeva sporocila\n",
    "\n",
    "<Samo sporocilo>\n",
    "```\n",
    "\n",
    "Vse predhodne ali zaključne presledke v vsaki vrstici odstranimo pred obdelavo. Na primer, e-pošto zgoraj bi lahko napisali kot spodnjo in ne bi bilo nobene razlike.\n",
    "\n",
    "\n",
    "```txt\n",
    "                    prejemnik@enadomena.com               \n",
    "    posiljatelj@drugadomena.com                    \n",
    "Zadeva sporocila\n",
    "\n",
    "<Samo sporocilo>\n",
    "```\n",
    "\n",
    "Tretjič, Ana vam v dobri veri (kakšna naivnost!) pove, da pošilja sporočilo Boru. (Torej poznate vsebino prve vrstice v čistopisu.)\n",
    "\n",
    "Četrtič, Ana uporablja tokovno šifro brez kakršnih koli storitev zagotavljanja celovitosti.\n",
    "\n",
    "### Naloga\n",
    "\n",
    "Ker nastopate v vlogi posrednika, lahko sedaj spremenite sporočilo tako, da strežnik FMTP ne bo poslal pošte Boru, temveč jo bo poslal na naslov, ki ga nadzirate vi, npr. `nandi@obvlada.si`."
   ]
  },
  {
   "cell_type": "raw",
   "metadata": {
    "tags": []
   },
   "source": [
    "chars = \"abcdefghijklmnopqrstuvwxyz\".upper()\n",
    "# chars = chars.upper()\n",
    "# chars += \"0123456789\"\n",
    "\n",
    "sum(ord(ch) for ch in chars) / len(chars)"
   ]
  },
  {
   "cell_type": "raw",
   "metadata": {
    "tags": []
   },
   "source": [
    "import string"
   ]
  },
  {
   "cell_type": "raw",
   "metadata": {
    "tags": []
   },
   "source": [
    "xors = {}\n",
    "for ch1 in string.printable:\n",
    "    for ch2 in [\" \"]: #string.printable:\n",
    "        key = ord(ch1) ^ ord(ch2)\n",
    "        if ch1 == ch2:\n",
    "            continue\n",
    "        \n",
    "        if not key in xors:\n",
    "            xors[key] = set()          \n",
    "            \n",
    "        pair = (ch1, ch2) if ch1 > ch2 else (ch2, ch1)\n",
    "        \n",
    "        xors[key].add(pair)\n",
    "        \n",
    "print(len(xors))\n",
    "for k, v in xors.items():\n",
    "    print(k, v)\n",
    "        "
   ]
  },
  {
   "cell_type": "code",
   "execution_count": null,
   "metadata": {},
   "outputs": [],
   "source": []
  }
 ],
 "metadata": {
  "kernelspec": {
   "display_name": "Python 3 (ipykernel)",
   "language": "python",
   "name": "python3"
  },
  "language_info": {
   "codemirror_mode": {
    "name": "ipython",
    "version": 3
   },
   "file_extension": ".py",
   "mimetype": "text/x-python",
   "name": "python",
   "nbconvert_exporter": "python",
   "pygments_lexer": "ipython3",
   "version": "3.10.12"
  }
 },
 "nbformat": 4,
 "nbformat_minor": 4
}
