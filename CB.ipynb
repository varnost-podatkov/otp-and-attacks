{
 "cells": [
  {
   "cell_type": "markdown",
   "metadata": {},
   "source": [
    "https://crypto.stackexchange.com/questions/2249/how-does-one-attack-a-two-time-pad-i-e-one-time-pad-with-key-reuse"
   ]
  },
  {
   "cell_type": "markdown",
   "metadata": {},
   "source": [
    "#### WARNING: DO NOT DO INVENT NOR IMPLEMENT YOUR OWN CRYPTO\n",
    "This is for demonstration purposes and OTP attack game only!"
   ]
  },
  {
   "cell_type": "code",
   "execution_count": 1,
   "metadata": {
    "tags": []
   },
   "outputs": [],
   "source": [
    "import secrets"
   ]
  },
  {
   "cell_type": "code",
   "execution_count": 2,
   "metadata": {
    "tags": []
   },
   "outputs": [],
   "source": [
    "def gen_key(length):\n",
    "    \"\"\"Vrne nakljucni niz bajtov podane dolzine\"\"\"\n",
    "    return secrets.token_bytes(length)"
   ]
  },
  {
   "cell_type": "code",
   "execution_count": 3,
   "metadata": {
    "tags": []
   },
   "outputs": [],
   "source": [
    "def xor_bytes(s1, s2):\n",
    "    \"\"\"Izvede operacijo XOR med podanima seznamoma bajtov in vrne seznam bajtov\"\"\"\n",
    "    return bytes(a ^ b for a, b in zip(s1, s2))"
   ]
  },
  {
   "cell_type": "code",
   "execution_count": 4,
   "metadata": {
    "tags": []
   },
   "outputs": [],
   "source": [
    "assert xor_bytes([1, 2, 3], [3, 2, 1]) == bytes([2, 0, 2])\n",
    "assert xor_bytes([0, 0, 0], [3, 2, 1]) == bytes([3, 2, 1])\n",
    "assert xor_bytes([1, 1, 1], [1, 1, 1]) == bytes([0, 0, 0])"
   ]
  },
  {
   "cell_type": "code",
   "execution_count": 5,
   "metadata": {
    "tags": []
   },
   "outputs": [],
   "source": [
    "def enc_otp(key, pt):\n",
    "    \"\"\"Sifrirni algoritem enkratne podloge\"\"\"\n",
    "    return xor_bytes(key, pt)"
   ]
  },
  {
   "cell_type": "code",
   "execution_count": 6,
   "metadata": {
    "tags": []
   },
   "outputs": [],
   "source": [
    "assert enc_otp([1, 2, 3], [1, 1, 1]) == xor_bytes([1, 2, 3], [1, 1, 1])"
   ]
  },
  {
   "cell_type": "code",
   "execution_count": 7,
   "metadata": {
    "tags": []
   },
   "outputs": [],
   "source": [
    "def dec_otp(key, ct):\n",
    "    \"\"\"Desifrirni algoritem enkratne podloge\"\"\"\n",
    "    return xor_bytes(key, ct)"
   ]
  },
  {
   "cell_type": "code",
   "execution_count": 8,
   "metadata": {
    "tags": []
   },
   "outputs": [],
   "source": [
    "assert dec_otp([1, 2, 3], [1, 1, 1]) == xor_bytes([1, 2, 3], [1, 1, 1])"
   ]
  },
  {
   "cell_type": "code",
   "execution_count": 9,
   "metadata": {
    "tags": []
   },
   "outputs": [],
   "source": [
    "def dec_otp_partial(key, ct):\n",
    "    \"\"\"Desifrira samo tiste znake, kjer kljuc ni 0 -- ce je, kot znak nastavi *\"\"\"\n",
    "    return bytes(k ^ c if k > 0 else ord(\"*\")  for k, c in zip(key, ct))"
   ]
  },
  {
   "cell_type": "code",
   "execution_count": 10,
   "metadata": {
    "tags": []
   },
   "outputs": [],
   "source": [
    "assert dec_otp_partial([1, 0, 1], [2, 2, 2]) == bytes([3, ord(\"*\"), 3])\n",
    "assert dec_otp_partial([1, 1, 1], [2, 2, 2]) == dec_otp([1, 1, 1], [2, 2, 2])"
   ]
  },
  {
   "cell_type": "code",
   "execution_count": 11,
   "metadata": {
    "tags": []
   },
   "outputs": [],
   "source": [
    "def prepare_pt():\n",
    "    def normalize(msg):\n",
    "        msg = msg.lower()\n",
    "        msg = msg.replace(\"č\", \"c\")\n",
    "        msg = msg.replace(\"š\", \"s\")\n",
    "        msg = msg.replace(\"ž\", \"z\")\n",
    "        msg = \" \".join(msg.split())\n",
    "        return \"\".join(x for x in msg if x in 'abcdefghijklmnoprstuvz ')\n",
    "\n",
    "    data = [\n",
    "    \"Slovenija je evropska država z zemljepisno lego na skrajnem severu Sredozemlja in na skrajnem jugu Srednje Evrope\",\n",
    "    \"Skozi slovensko zgodovino so pomembni kulturni vplivi prihajali iz srednjeevropskega in apeninskega kulturnega prostora.\",\n",
    "    \"Slovenija ima gospodarsko ureditev, ki temelji na prostem trgu, zdaj je po mednarodnih merilih uvrščena med države z zelo visokim indeksom človekovega razvoja\",\n",
    "    \"Poimenovanje za Slovence izvira iz besede Slovani izvor te pa je nejasen je izpeljanka iz korena slov ki je med drugim ohranjen v nekaterih vodnih imenih širom vzhodne Evrope\",\n",
    "    \"Prvič je bilo ime uporabljeno za državno tvorbo Federalna Slovenija, ki je po sklepu zasedanja Slovenskega narodnoosvobodilnega sveta pristopila v Demokratično federativno Jugoslavijo\",\n",
    "    \"Slovanski predniki današnjih Slovencev so se na ilirsko ozemlje Slovenije naselili v sestem stoletju. V sedmem stoletju se je oblikovala Karantanija, prva država alpskih Slovanov.\",\n",
    "    \"Okoli leta tisoc so bili napisani Brižinski spomeniki, prvi pisni dokument v slovenščini in prvi slovanski zapis v latinici.\",\n",
    "    \"V Pomladi narodov so med številnimi narodi tudi Slovenci s političnim programom zahtevali Zedinjeno Slovenijo\",\n",
    "    \"Geografsko leži Slovenija v srednji Evropi oziroma v jugovzhodni Evropi na stičišču Alp, Dinarskega gorstva, Panonske nižine in Sredozemlja.\",\n",
    "    \"Največ slovenskega površja sestavljajo kamnine iz časa, mezozoika (apnenec, dolomit) in kenozoika, torej terciarja (lapor, peščenjak, fliš) in kvartarja (prod, pesek, glina, konglomerat).\",\n",
    "    #\"Tole je pa sedaj 1, 2, 3, 4 zelo zanimivo. Tole je pa sedaj 1, 2, 3, 4 zelo zanimivo. Tole je pa sedaj 1, 2, 3, 4 zelo zanimivo. zelo zanimivo. zelo zanimivo.\"\n",
    "    ]\n",
    "    # target = \"ce sifriras z enkratno podlogo, ne uporabi istega kljuce vec kot enkrat\"\n",
    "    length = len(min(data, key=lambda x:len(x)))\n",
    "    return [normalize(s)[:length] for s in data]"
   ]
  },
  {
   "cell_type": "code",
   "execution_count": 12,
   "metadata": {
    "tags": []
   },
   "outputs": [],
   "source": [
    "plain_texts = prepare_pt()\n",
    "secret_key = gen_key(len(max(plain_texts, key=lambda x:len(x))))\n",
    "cipher_texts = [enc_otp(secret_key, pt.encode(\"utf-8\")) for pt in plain_texts]"
   ]
  },
  {
   "cell_type": "markdown",
   "metadata": {},
   "source": [
    "### Nekaj namigov\n",
    "- Kodiranje je ASCII. V abecedi ni šumnikov, števk in ločilČ imamo le (male tiskane) črke in presledek\n",
    "- Pri črki bo bit 6 vedno nastavljen. To pomeni, da je vsaka črka zakodirana z znakom, ki je > 64\n",
    "- Pri presledku je bit 6 vedno nenastavljen. Presledek in ASCII vrednost 32\n",
    "- Ko naredimo XOR črke in presledka bo bit 6 nastavljen. Torej če je ASCII vrednost v $d$ nad 64, to pomeni, da gledamo vrednost, ki je nastala z XOR presledka in neke črke: Če XOR-amo 32 (presledek) dobimo črko v enem čistopisu (sicer ne vemo katerem)\n",
    "\n",
    "\n",
    "| $\\oplus$       | A-Z (65-90) | presledek (32) |\n",
    "| ---------------|-------------|----------------|\n",
    "| A-Z (65-90)    |    $\\leq 32$  |    $\\geq 65$     |\n",
    "| Presledek (32) |    $\\geq 65$  |       $0$      |"
   ]
  },
  {
   "cell_type": "code",
   "execution_count": 13,
   "metadata": {
    "tags": []
   },
   "outputs": [
    {
     "name": "stdout",
     "output_type": "stream",
     "text": [
      "0.7889908256880734\n",
      "*l***ni*a j* e*ropska **zava z zemlj*pi*no lego na *krajnem *e*er* s*edozemlj* in na *kr*jnem *ug* sre**je e*\n"
     ]
    }
   ],
   "source": [
    "def multiple_xor1(pos, cts):\n",
    "    for c1 in cts:\n",
    "        if all(c1[pos] ^ c2[pos] >= 65 or c1[pos] ^ c2[pos] == 0 for c2 in cts if c2 != c1):\n",
    "            return c1[pos] ^ ord(' ')\n",
    "    \n",
    "    return 0\n",
    "\n",
    "def multiple_xor(pos, cts):\n",
    "    # na dani poziciji znak tajnopisa paroma XORamo z istoleznim znakom v vsakem drugem tajnopisu\n",
    "    # ce se za nek znak izkaze, da je rezultat te operacije vedno vrednost >= 65 ali == 0\n",
    "    # potem je znak na dani poziciji presledek\n",
    "    # znak XOR-amo s presledkom, dobimo kljuc in ga vrnemo\n",
    "    # v nasprotnem primeru za znak kljuca vrnemo vrednost 0\n",
    "    for c1 in cts:\n",
    "        is_c1_space = True\n",
    "        \n",
    "        for c2 in cts:\n",
    "            if c1 == c2:\n",
    "                continue\n",
    "            \n",
    "            if 0 < c1[pos] ^ c2[pos] < 65:\n",
    "                is_c1_space = False\n",
    "            \n",
    "        if is_c1_space:\n",
    "            return c1[pos] ^ ord(' ')    \n",
    "\n",
    "    return 0\n",
    "\n",
    "def guess_key(ciphertexts):\n",
    "    key = bytearray(len(ciphertexts[0]))\n",
    "\n",
    "    for i in range(len(ciphertexts[0])):\n",
    "        key[i] = multiple_xor1(i, ciphertexts)\n",
    "    return key\n",
    "\n",
    "\n",
    "gk = guess_key(cipher_texts)\n",
    "print(sum(1 for a, g in zip(secret_key, gk) if a == g) / len(secret_key))\n",
    "print(dec_otp_partial(gk, cipher_texts[0]).decode(\"ascii\"))"
   ]
  },
  {
   "cell_type": "code",
   "execution_count": 14,
   "metadata": {
    "tags": []
   },
   "outputs": [
    {
     "name": "stdout",
     "output_type": "stream",
     "text": [
      "*l***ni*a j* e*ropska **zava z zemlj*pi*no lego na *krajnem *e*er* s*edozemlj* in na *kr*jnem *ug* sre**je e*\n",
      "*k*** s*ove*sk* zgodov**o so pomembn* k*lturni vpli*i prihaj*l* i* s*ednjeevr*pskega *n *penin*ke*a ku**urne*\n",
      "*l***ni*a i*a *ospodar**o ureditev k* t*melji na pr*stem trg* *da* j* po medn*rodnih *er*lih u*rs*ena **d dr*\n",
      "*o***no*anj* z* sloven** izvira iz b*se*e slovani i*vor te p* *e *ej*sen je i*peljank* i* kore*a *lov ** je *\n",
      "*r*** j* bi*o *me upor**ljeno za drz*vn* tvorbo fed*ralna sl*v*ni*a *i je po *klepu z*se*anja *lo*ensk**a na*\n",
      "*l***ns*i p*ed*iki dan**njih slovenc*v *o se na ili*sko ozem*j* s*ov*nije nas*lili v *es*em st*le*ju v**edme*\n",
      "*k*** l*ta *is*c so bi** napisani br*zi*ski spomeni*i prvi p*s*i *ok*ment v s*ovensci*i *n prv* s*ovan**i za*\n",
      "* ***la*i n*ro*ov so m** stevilnimi *ar*di tudi slo*enci s p*l*ti*ni* program*m zahte*al* zedi*je*o sl**enij*\n",
      "*e***af*ko *ez* sloven**a v srednji *vr*pi oziroma * jugovzh*d*i *vr*pi na st*ciscu a*p *inars*eg* gor**va p*\n",
      "*a***c *lov*ns*ega pov**ja sestavlja*o *amnine iz c*sa mezoz*i*a *pn*nec dolo*it in k*no*oika *or*j te**iarj*\n"
     ]
    }
   ],
   "source": [
    "for c in cipher_texts:\n",
    "    print(dec_otp_partial(gk, c).decode(\"ascii\"))"
   ]
  },
  {
   "cell_type": "code",
   "execution_count": 15,
   "metadata": {
    "tags": []
   },
   "outputs": [],
   "source": [
    "gk[0] = cipher_texts[0][0] ^ ord(\"s\")\n",
    "gk[2] = cipher_texts[0][2] ^ ord(\"o\")\n",
    "gk[3] = cipher_texts[0][3] ^ ord(\"v\")\n",
    "gk[4] = cipher_texts[0][4] ^ ord(\"e\")\n",
    "gk[7] = cipher_texts[0][7] ^ ord(\"j\")"
   ]
  },
  {
   "cell_type": "markdown",
   "metadata": {},
   "source": [
    "### Gnetljivost tajnopisa\n",
    "\n",
    "Ana želi poslati zaupno pošto Boru, vas, ki igrate vlogo napadalca Nandija, pa vsebina sporočila _zares_ zanima.\n",
    "\n",
    "Na srečo vam gre nekaj reči na roko. \n",
    "\n",
    "Prvič, Anin računalnik nima internetne povezave, vaš mobilni telefon pa. Zato ji prijazno ponudite, da zanjo postavite mobilno dostopno točko, preko katere se bo lahko povezala v internet in dostopala do poštnega strežnika. Poštni strežnik bo nato sporočilo dostavil Boru. \n",
    "\n",
    "Ana in Bor uporabljata poseben protokol za pošto: protokol FMTP -- Funny Mail Transfer Protocol.  Gre za preprost besedilno-osnovan protokol: prva vrstica označuje naslov prejemnika, druga naslov pošiljatelja, tretja zadevo, četrta je vedno prazna in na koncu je sporočilo.\n",
    "\n",
    "Vse, kar mora Anin poštni odjemalec storiti, da pošlje sporočilo, je, da strežniku FMTP dostavi besedilni niz, podoben naslednjemu.\n",
    "\n",
    "```txt\n",
    "prejemnik@enadomena.com\n",
    "posiljatelj@drugadomena.com\n",
    "Zadeva sporocila\n",
    "\n",
    "<Samo sporocilo>\n",
    "```\n",
    "\n",
    "Vse morebitne predhodne ali zaključne presledke v vsaki vrstici odstranimo pred obdelavo. Na primer, e-pošto zgoraj bi lahko napisali kot spodnjo in ne bi bilo nobene razlike.\n",
    "\n",
    "\n",
    "```txt\n",
    "                    prejemnik@enadomena.com               \n",
    "    posiljatelj@drugadomena.com                    \n",
    "Zadeva sporocila\n",
    "\n",
    "<Samo sporocilo>\n",
    "```\n",
    "\n",
    "Tretjič, Ana vam v dobri veri -- kakšna naivnost! -- pove, da pošilja elektronsko sporočilo Boru in da uporablja protokol FMTP. (Torej poznate strukturo sporočila in vsebino prve vrstice čistopisa.)\n",
    "\n",
    "Četrtič, Ana uporablja tokovno šifro brez kakršnih koli storitev zagotavljanja celovitosti.\n",
    "\n",
    "Ker nastopate v vlogi **posrednika**, lahko sedaj spremenite sporočilo tako, da strežnik FMTP ne bo poslal pošte Boru, temveč jo bo poslal na naslov, ki ga nadzirate vi, npr. `nandi@obvlada.si`."
   ]
  },
  {
   "cell_type": "code",
   "execution_count": 16,
   "metadata": {
    "tags": []
   },
   "outputs": [],
   "source": [
    "# Ana in Bor si enkrat tedensko v zivo izmenjata 1000 bajtov\n",
    "# nakljucnih vrednosti za morebitne potrebe sifriranja\n",
    "ana_bor_psk = gen_key(1000)"
   ]
  },
  {
   "cell_type": "code",
   "execution_count": 17,
   "metadata": {
    "tags": []
   },
   "outputs": [
    {
     "name": "stdout",
     "output_type": "stream",
     "text": [
      "Ana posilja sifrirano sporocilo na streznik\n",
      "Tajnopis (HEX): 711e890583461c995839d588aa79039ab2b1d865ceb84e871b1746b1cd17f39810c893d9942d84fc3606395287cbc4c1d2390a05b893de0286e8faa2831b0af076caeb8f1e5d8064fe32\n"
     ]
    }
   ],
   "source": [
    "# Ana pripravi sporočilo\n",
    "email = \"\"\"bor@student.uni-lj.si\n",
    "ana@student.uni-lj.si\n",
    "Hej\n",
    "\n",
    "Na faksu si pozabil kapo.\"\"\".strip()\n",
    "\n",
    "# In ga šifrira z enkratno podlogo\n",
    "ct = enc_otp(ana_bor_psk, email.encode(\"utf8\"))\n",
    "\n",
    "# Nato ga pošlje (to simuliramo) na streznik FMTP\n",
    "print(\"Ana posilja sifrirano sporocilo na streznik\")\n",
    "print(\"Tajnopis (HEX):\", ct.hex())"
   ]
  },
  {
   "cell_type": "markdown",
   "metadata": {},
   "source": [
    "Sedaj je na potezi napadalec Nandi.\n",
    "\n",
    "Implementirajte funckijo `change_ct(ct, new_email)`, ki na vhodu prejme tajnopis in email naslov. Spremenite tajnopis tako, da ga bo strežnik FMTP še vedno brez dešifriral, a kot prejemnik ne bo naveden Bor, temveč email naslov, ki je podan v argumentu `new_email`."
   ]
  },
  {
   "cell_type": "code",
   "execution_count": 18,
   "metadata": {
    "tags": []
   },
   "outputs": [],
   "source": [
    "def change_ct(ct, new_email):\n",
    "    cur = \"bor@student.uni-lj.si\"\n",
    "    new = \"nandi@obvlada.si     \"\n",
    "    \n",
    "    l = bytearray(ct)\n",
    "    \n",
    "    for i, (c, n) in enumerate(zip(cur, new)):\n",
    "        l[i] = l[i] ^ ord(c) ^ ord(n)\n",
    "        \n",
    "    return l"
   ]
  },
  {
   "cell_type": "markdown",
   "metadata": {},
   "source": [
    "Z poganjanjem spodnje celice lahko preverite, ali vaša funkcija deluje pravilno. "
   ]
  },
  {
   "cell_type": "code",
   "execution_count": 19,
   "metadata": {
    "tags": []
   },
   "outputs": [
    {
     "name": "stdout",
     "output_type": "stream",
     "text": [
      "Streznik FMTP prejel sporocilo: 7d1095219972069f4b3bc0c2be3919defefbd63687b84e871b1746b1cd17f39810c893d9942d84fc3606395287cbc4c1d2390a05b893de0286e8faa2831b0af076caeb8f1e5d8064fe32\n",
      "Desifrirano sporocilo:\n",
      "nandi@obvlada.si     \n",
      "ana@student.uni-lj.si\n",
      "Hej\n",
      "\n",
      "Na faksu si pozabil kapo.\n"
     ]
    }
   ],
   "source": [
    "def fmtp_receive(key, ct):\n",
    "    print(\"Streznik FMTP prejel sporocilo:\", ct.hex())\n",
    "    pt = dec_otp(key, ct)\n",
    "    print(\"Desifrirano sporocilo:\")\n",
    "    print(pt.decode(\"utf8\"))\n",
    "\n",
    "fmtp_receive(ana_bor_psk, change_ct(ct, \"nandi@obvlada.si\"))"
   ]
  }
 ],
 "metadata": {
  "kernelspec": {
   "display_name": "Python 3 (ipykernel)",
   "language": "python",
   "name": "python3"
  },
  "language_info": {
   "codemirror_mode": {
    "name": "ipython",
    "version": 3
   },
   "file_extension": ".py",
   "mimetype": "text/x-python",
   "name": "python",
   "nbconvert_exporter": "python",
   "pygments_lexer": "ipython3",
   "version": "3.10.12"
  }
 },
 "nbformat": 4,
 "nbformat_minor": 4
}
