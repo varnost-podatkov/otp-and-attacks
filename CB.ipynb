{
 "cells": [
  {
   "cell_type": "markdown",
   "metadata": {},
   "source": [
    "https://crypto.stackexchange.com/questions/2249/how-does-one-attack-a-two-time-pad-i-e-one-time-pad-with-key-reuse"
   ]
  },
  {
   "cell_type": "markdown",
   "metadata": {},
   "source": [
    "#### WARNING: DO NOT DO INVENT NOR IMPLEMENT YOUR OWN CRYPTO\n",
    "This is for demonstration purposes and OTP attack game only!"
   ]
  },
  {
   "cell_type": "code",
   "execution_count": 1,
   "metadata": {
    "tags": []
   },
   "outputs": [],
   "source": [
    "import secrets"
   ]
  },
  {
   "cell_type": "code",
   "execution_count": 2,
   "metadata": {
    "tags": []
   },
   "outputs": [],
   "source": [
    "def gen_key(length):\n",
    "    \"\"\"Vrne nakljucni niz bajtov podane dolzine\"\"\"\n",
    "    return secrets.token_bytes(length)"
   ]
  },
  {
   "cell_type": "code",
   "execution_count": 3,
   "metadata": {
    "tags": []
   },
   "outputs": [],
   "source": [
    "def xor_bytes(s1, s2):\n",
    "    \"\"\"Izvede operacijo XOR med podanima seznamoma bajtov in vrne seznam bajtov\"\"\"\n",
    "    return bytes(a ^ b for a, b in zip(s1, s2))"
   ]
  },
  {
   "cell_type": "code",
   "execution_count": 4,
   "metadata": {
    "tags": []
   },
   "outputs": [],
   "source": [
    "def enc_otp(key, pt):\n",
    "    \"\"\"Sifrirni algoritem enkratne podloge\"\"\"\n",
    "    return xor_bytes(key, pt)"
   ]
  },
  {
   "cell_type": "code",
   "execution_count": 20,
   "metadata": {
    "tags": []
   },
   "outputs": [],
   "source": [
    "def dec_otp(key, ct):\n",
    "    \"\"\"Desifrirni algoritem enkratne podloge\"\"\"\n",
    "    return xor_bytes(key, ct)\n",
    "\n",
    "def dec_otp_partial(key, ct):\n",
    "    \"\"\"Desifrira samo tiste znake, kjer kljuc ni 0 -- ce je, kot znak nastavi *\"\"\"\n",
    "    return bytes(k ^ c if k > 0 else ord(\"*\")  for k, c in zip(key, ct))"
   ]
  },
  {
   "cell_type": "code",
   "execution_count": 98,
   "metadata": {
    "tags": []
   },
   "outputs": [],
   "source": [
    "def prepare_pt():\n",
    "    def normalize(msg):\n",
    "        msg = msg.lower()\n",
    "        msg = msg.replace(\"č\", \"c\")\n",
    "        msg = msg.replace(\"š\", \"s\")\n",
    "        msg = msg.replace(\"ž\", \"z\")\n",
    "        msg = \" \".join(msg.split())\n",
    "        return \"\".join(x for x in msg if x in 'abcdefghijklmnoprstuvz ')\n",
    "\n",
    "    data = [\n",
    "    \"Slovenija je evropska država z zemljepisno lego na skrajnem severu Sredozemlja in na skrajnem jugu Srednje Evrope\",\n",
    "    \"Skozi slovensko zgodovino so pomembni kulturni vplivi prihajali iz srednjeevropskega in apeninskega kulturnega prostora.\",\n",
    "    \"Slovenija ima gospodarsko ureditev, ki temelji na prostem trgu, zdaj je po mednarodnih merilih uvrščena med države z zelo visokim indeksom človekovega razvoja\",\n",
    "    \"Poimenovanje za Slovence izvira iz besede Slovani izvor te pa je nejasen je izpeljanka iz korena slov ki je med drugim ohranjen v nekaterih vodnih imenih širom vzhodne Evrope\",\n",
    "    \"Prvič je bilo ime uporabljeno za državno tvorbo Federalna Slovenija, ki je po sklepu zasedanja Slovenskega narodnoosvobodilnega sveta pristopila v Demokratično federativno Jugoslavijo\",\n",
    "    \"Slovanski predniki današnjih Slovencev so se na ilirsko ozemlje Slovenije naselili v sestem stoletju. V sedmem stoletju se je oblikovala Karantanija, prva država alpskih Slovanov.\",\n",
    "    \"Okoli leta tisoc so bili napisani Brižinski spomeniki, prvi pisni dokument v slovenščini in prvi slovanski zapis v latinici.\",\n",
    "    \"V Pomladi narodov so med številnimi narodi tudi Slovenci s političnim programom zahtevali Zedinjeno Slovenijo\",\n",
    "    \"Geografsko leži Slovenija v srednji Evropi oziroma v jugovzhodni Evropi na stičišču Alp, Dinarskega gorstva, Panonske nižine in Sredozemlja.\",\n",
    "    \"Največ slovenskega površja sestavljajo kamnine iz časa, mezozoika (apnenec, dolomit) in kenozoika, torej terciarja (lapor, peščenjak, fliš) in kvartarja (prod, pesek, glina, konglomerat).\",\n",
    "    ]\n",
    "    # target = \"ce sifriras z enkratno podlogo, ne uporabi istega kljuce vec kot enkrat\"\n",
    "    length = len(min(data, key=lambda x:len(x)))\n",
    "    return [normalize(s)[:length] for s in data]"
   ]
  },
  {
   "cell_type": "code",
   "execution_count": 99,
   "metadata": {
    "tags": []
   },
   "outputs": [],
   "source": [
    "plain_texts = prepare_pt()\n",
    "secret_key = gen_key(len(max(plain_texts, key=lambda x:len(x))))\n",
    "cipher_texts = [enc_otp(secret_key, pt.encode(\"utf-8\")) for pt in plain_texts]"
   ]
  },
  {
   "cell_type": "markdown",
   "metadata": {},
   "source": [
    "### Nekaj namigov\n",
    "- Kodiranje je ASCII. V abecedi ni šumnikov, števk in ločilČ imamo le (male tiskane) črke in presledek\n",
    "- Pri črki bo bit 6 vedno nastavljen. To pomeni, da je vsaka črka zakodirana z znakom, ki je > 64\n",
    "- Pri presledku je bit 6 vedno nenastavljen. Presledek in ASCII vrednost 32\n",
    "- Ko naredimo XOR črke in presledka bo bit 6 nastavljen. Torej če je ASCII vrednost v $d$ nad 64, to pomeni, da gledamo vrednost, ki je nastala z XOR presledka in neke črke: Če XOR-amo 32 (presledek) dobimo črko v enem čistopisu (sicer ne vemo katerem)\n",
    "\n",
    "\n",
    "| $\\oplus$       | A-Z (65-90) | presledek (32) |\n",
    "| ---------------|-------------|----------------|\n",
    "| A-Z (65-90)    |    $\\leq 32$  |    $\\geq 65$     |\n",
    "| Presledek (32) |    $\\geq 65$  |       $0$      |"
   ]
  },
  {
   "cell_type": "raw",
   "metadata": {},
   "source": [
    "def guess_key_old(ciphertexts):\n",
    "    key = bytearray(len(ciphertexts[0]))\n",
    "\n",
    "    for k in range(len(ciphertexts[0])):\n",
    "        guess = None\n",
    "\n",
    "        for i, c1 in enumerate(ciphertexts):\n",
    "            for j, c2 in enumerate(ciphertexts):\n",
    "                print(k, i, j)\n",
    "                if c1 == c2:\n",
    "                    continue\n",
    "\n",
    "                if 0 < c1[k] ^ c2[k] < 65:\n",
    "                    print(\"break: < 65\")\n",
    "                    guess = ord('?')\n",
    "                    break\n",
    "\n",
    "                guess = ' '\n",
    "            \n",
    "            if guess == ' ': \n",
    "                key[k] = c1[k] ^ ord(' ')\n",
    "                print(k, i, j, \"break: found SPACE\")\n",
    "                #print(\"break: found SPACE\")\n",
    "                break\n",
    "        \n",
    "    return key"
   ]
  },
  {
   "cell_type": "code",
   "execution_count": 133,
   "metadata": {
    "tags": []
   },
   "outputs": [
    {
     "name": "stdout",
     "output_type": "stream",
     "text": [
      "0.7889908256880734\n",
      "*l***ni*a j* e*ropska **zava z zemlj*pi*no lego na *krajnem *e*er* s*edozemlj* in na *kr*jnem *ug* sred*je e*\n"
     ]
    }
   ],
   "source": [
    "def multiple_xor1(pos, cts):\n",
    "    for c1 in cts:\n",
    "        if all(c1[pos] ^ c2[pos] >= 65 or c1[pos] ^ c2[pos] == 0 for c2 in cts if c2 != c1):\n",
    "            return c1[pos] ^ ord(' ')\n",
    "    \n",
    "    return 0\n",
    "\n",
    "def multiple_xor(pos, cts):\n",
    "    # na dani poziciji vsak znak tajnopisa paroma XORamo z istoleznim znakom v vsakem drugem tajnopisu\n",
    "    # ce za nek znak izkaze, je rezultat te operacije vedno vrednost >= 65 ali == 0\n",
    "    # potem je ta znak presledek\n",
    "    # znak XOR-amo s presledkom in dobimo kljuc in ga vrnemo\n",
    "    # sicer za znak kljuca vrnemo vrednost 0\n",
    "    for c1 in cts:\n",
    "        is_c1_space = True\n",
    "        \n",
    "        for c2 in cts:\n",
    "            if c1 == c2:\n",
    "                continue\n",
    "            \n",
    "            if 0 < c1[pos] ^ c2[pos] < 65:\n",
    "                is_c1_space = False\n",
    "            \n",
    "        if is_c1_space:\n",
    "            return c1[pos] ^ ord(' ')    \n",
    "\n",
    "    return 0\n",
    "\n",
    "def guess_key(ciphertexts):\n",
    "    key = bytearray(len(ciphertexts[0]))\n",
    "\n",
    "    for i in range(len(ciphertexts[0])):\n",
    "        key[i] = multiple_xor(i, ciphertexts)\n",
    "    return key\n",
    "\n",
    "\n",
    "gk = guess_key(cipher_texts)\n",
    "print(sum(1 for a, g in zip(secret_key, gk) if a == g) / len(secret_key))\n",
    "print(dec_otp_partial(gk, cipher_texts[0]).decode(\"ascii\"))"
   ]
  },
  {
   "cell_type": "raw",
   "metadata": {
    "tags": []
   },
   "source": [
    "for c in cipher_texts:\n",
    "    print(dec_otp_partial(gk, c).decode(\"ascii\"))"
   ]
  },
  {
   "cell_type": "raw",
   "metadata": {
    "tags": []
   },
   "source": [
    "gk[0] = cipher_texts[0][0] ^ ord(\"s\")\n",
    "gk[2] = cipher_texts[0][2] ^ ord(\"o\")\n",
    "gk[3] = cipher_texts[0][3] ^ ord(\"v\")\n",
    "gk[4] = cipher_texts[0][4] ^ ord(\"e\")"
   ]
  },
  {
   "cell_type": "raw",
   "metadata": {
    "tags": []
   },
   "source": [
    "chars = \"abcdefghijklmnopqrstuvwxyz\".upper()\n",
    "# chars = chars.upper()\n",
    "# chars += \"0123456789\"\n",
    "\n",
    "sum(ord(ch) for ch in chars) / len(chars)"
   ]
  },
  {
   "cell_type": "raw",
   "metadata": {
    "tags": []
   },
   "source": [
    "import string"
   ]
  },
  {
   "cell_type": "raw",
   "metadata": {
    "tags": []
   },
   "source": [
    "xors = {}\n",
    "for ch1 in string.printable:\n",
    "    for ch2 in string.printable:\n",
    "        key = ord(ch1) ^ ord(ch2)\n",
    "        if ch1 == ch2:\n",
    "            continue\n",
    "        \n",
    "        if not key in xors:\n",
    "            xors[key] = set()          \n",
    "            \n",
    "        pair = (ch1, ch2) if ch1 > ch2 else (ch2, ch1)\n",
    "        \n",
    "        xors[key].add(pair)\n",
    "        \n",
    "print(len(xors))\n",
    "for k, v in xors.items():\n",
    "    print(k, v)\n",
    "        "
   ]
  }
 ],
 "metadata": {
  "kernelspec": {
   "display_name": "Python 3 (ipykernel)",
   "language": "python",
   "name": "python3"
  },
  "language_info": {
   "codemirror_mode": {
    "name": "ipython",
    "version": 3
   },
   "file_extension": ".py",
   "mimetype": "text/x-python",
   "name": "python",
   "nbconvert_exporter": "python",
   "pygments_lexer": "ipython3",
   "version": "3.10.12"
  }
 },
 "nbformat": 4,
 "nbformat_minor": 4
}
