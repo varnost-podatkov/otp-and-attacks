{
 "cells": [
  {
   "cell_type": "markdown",
   "metadata": {},
   "source": [
    "https://crypto.stackexchange.com/questions/2249/how-does-one-attack-a-two-time-pad-i-e-one-time-pad-with-key-reuse"
   ]
  },
  {
   "cell_type": "markdown",
   "metadata": {},
   "source": [
    "#### WARNING: DO NOT DO INVENT NOR IMPLEMENT YOUR OWN CRYPTO\n",
    "This is for demonstration purposes and OTP attack game only!"
   ]
  },
  {
   "cell_type": "code",
   "execution_count": 1,
   "metadata": {
    "tags": []
   },
   "outputs": [],
   "source": [
    "import secrets"
   ]
  },
  {
   "cell_type": "code",
   "execution_count": 2,
   "metadata": {
    "tags": []
   },
   "outputs": [],
   "source": [
    "def gen_key(length):\n",
    "    \"\"\"Vrne nakljucni niz bajtov podane dolzine\"\"\"\n",
    "    return secrets.token_bytes(length)"
   ]
  },
  {
   "cell_type": "code",
   "execution_count": 3,
   "metadata": {
    "tags": []
   },
   "outputs": [],
   "source": [
    "def xor_bytes(s1, s2):\n",
    "    \"\"\"Izvede operacijo XOR med podanima seznamoma bajtov in vrne seznam bajtov\"\"\"\n",
    "    return bytes(a ^ b for a, b in zip(s1, s2))"
   ]
  },
  {
   "cell_type": "code",
   "execution_count": 4,
   "metadata": {
    "tags": []
   },
   "outputs": [],
   "source": [
    "def enc_otp(key, pt):\n",
    "    \"\"\"Sifrirni algoritem enkratne podloge\"\"\"\n",
    "    return xor_bytes(key, pt)"
   ]
  },
  {
   "cell_type": "code",
   "execution_count": 5,
   "metadata": {
    "tags": []
   },
   "outputs": [],
   "source": [
    "def dec_otp(key, ct):\n",
    "    \"\"\"Desifrirni algoritem enkratne podloge\"\"\"\n",
    "    return xor_bytes(key, ct)"
   ]
  },
  {
   "cell_type": "code",
   "execution_count": 35,
   "metadata": {
    "tags": []
   },
   "outputs": [],
   "source": [
    "def prepare_pt():\n",
    "    def normalize(msg):\n",
    "        msg = msg.lower()\n",
    "        msg = msg.replace(\"č\", \"c\")\n",
    "        msg = msg.replace(\"š\", \"s\")\n",
    "        msg = msg.replace(\"ž\", \"z\")\n",
    "        msg = \" \".join(msg.split())\n",
    "        return \"\".join(x for x in msg if x in 'abcdefghijklmnoprsštuvz ')\n",
    "\n",
    "    data = [\n",
    "    \"Slovenija je evropska država z zemljepisno lego na skrajnem severu Sredozemlja in na skrajnem jugu Srednje Evrope\",\n",
    "    \"Skozi slovensko zgodovino so pomembni kulturni vplivi prihajali iz srednjeevropskega in apeninskega kulturnega prostora.\",\n",
    "    \"Slovenija ima gospodarsko ureditev, ki temelji na prostem trgu, zdaj je po mednarodnih merilih uvrščena med države z zelo visokim indeksom človekovega razvoja\",\n",
    "    \"Poimenovanje za Slovence izvira iz besede Slovani izvor te pa je nejasen je izpeljanka iz korena slov ki je med drugim ohranjen v nekaterih vodnih imenih širom vzhodne Evrope\",\n",
    "    \"Prvič je bilo ime uporabljeno za državno tvorbo Federalna Slovenija, ki je po sklepu zasedanja Slovenskega narodnoosvobodilnega sveta pristopila v Demokratično federativno Jugoslavijo\",\n",
    "    \"Slovanski predniki današnjih Slovencev so se na ilirsko ozemlje Slovenije naselili v sestem stoletju. V sedmem stoletju se je oblikovala Karantanija, prva država alpskih Slovanov.\",\n",
    "    \"Okoli leta tisoc so bili napisani Brižinski spomeniki, prvi pisni dokument v slovenščini in prvi slovanski zapis v latinici.\",\n",
    "    \"V Pomladi narodov so med številnimi narodi tudi Slovenci s političnim programom zahtevali Zedinjeno Slovenijo\",\n",
    "    \"Geografsko leži Slovenija v srednji Evropi oziroma v jugovzhodni Evropi na stičišču Alp, Dinarskega gorstva, Panonske nižine in Sredozemlja.\",\n",
    "    \"Največ slovenskega površja sestavljajo kamnine iz časa, mezozoika (apnenec, dolomit) in kenozoika, torej terciarja (lapor, peščenjak, fliš) in kvartarja (prod, pesek, glina, konglomerat).\",\n",
    "    ]\n",
    "    # target = \"ce sifriras z enkratno podlogo, ne uporabi istega kljuce vec kot enkrat\"\n",
    "    length = len(min(data, key=lambda x:len(x)))\n",
    "    return [normalize(s)[:length] for s in data]"
   ]
  },
  {
   "cell_type": "code",
   "execution_count": 36,
   "metadata": {
    "tags": []
   },
   "outputs": [],
   "source": [
    "plain_texts = prepare_pt()\n",
    "secret_key = gen_key(len(max(plain_texts, key=lambda x:len(x))))\n",
    "cipher_texts = [enc_otp(secret_key, pt.encode(\"utf-8\")) for pt in plain_texts]"
   ]
  },
  {
   "cell_type": "markdown",
   "metadata": {},
   "source": [
    "### Nekaj namigov\n",
    "- Kodiranje je ASCII. V abecedi ni šumnikov, so le (velike tiskane) črke in presledek\n",
    "- Pri črki bo bit 6 vedno nastavljen. To pomeni, da je vsaka črka zakodirana z znakom, ki je > 64\n",
    "- Pri presledku je bit 6 vedno nenastavljen. Presledek in ASCII vrednost 32\n",
    "- Ko naredimo XOR črke in presledka bo bit 6 nastavljen. Torej če je ASCII vrednost v $d$ nad 64, to pomeni, da gledamo vrednost, ki je nastala z XOR presledka in neke črke: Če XOR-amo 32 (presledek) dobimo črko v enem čistopisu (sicer ne vemo katerem)\n",
    "\n",
    "\n",
    "| $\\oplus$       | A-Z (65-90) | presledek (32) |\n",
    "| ---------------|-------------|----------------|\n",
    "| A-Z (65-90)    |    $\\leq 32$  |    $\\geq 65$     |\n",
    "| Presledek (32) |    $\\geq 65$  |       $0$      |"
   ]
  },
  {
   "cell_type": "code",
   "execution_count": 54,
   "metadata": {
    "tags": []
   },
   "outputs": [
    {
     "name": "stdout",
     "output_type": "stream",
     "text": [
      "0.3944954128440367\n"
     ]
    }
   ],
   "source": [
    "def guess_key_old(ciphertexts):\n",
    "    key = bytearray(len(ciphertexts[0]))\n",
    "\n",
    "    for k in range(len(ciphertexts[0])):\n",
    "        guess = None\n",
    "\n",
    "        for c1 in ciphertexts:\n",
    "            for c2 in ciphertexts:\n",
    "                if c1 == c2:\n",
    "                    continue\n",
    "\n",
    "                xor = c1[k] ^ c2[k]\n",
    "                \n",
    "                if 0 < xor < 65:\n",
    "                    guess = ord('?')\n",
    "                    break\n",
    "\n",
    "                guess = ' '\n",
    "            \n",
    "            if guess == ' ': \n",
    "                key[k] = c1[k] ^ ord(' ')\n",
    "                break\n",
    "        \n",
    "    return key\n",
    "\n",
    "def multiple_xor(position, ciphertexts):\n",
    "    for c1 in ciphertexts:\n",
    "        if all(c1[position] ^ c2[position] >= 65 for c2 in ciphertexts if c2 != c1):\n",
    "            return c1[position] ^ ord(' ')\n",
    "    \n",
    "    return 0\n",
    "\n",
    "def guess_key(ciphertexts):\n",
    "    key = bytearray(len(ciphertexts[0]))\n",
    "\n",
    "    for k in range(len(ciphertexts[0])):\n",
    "        key[k] = multiple_xor(k, ciphertexts)\n",
    "    return key\n",
    "    \n",
    "gk = guess_key(cipher_texts)\n",
    "print(sum(1 for a, g in zip(secret_key, gk) if a == g) / len(secret_key))\n",
    "# gk"
   ]
  },
  {
   "cell_type": "raw",
   "metadata": {
    "tags": []
   },
   "source": [
    "chars = \"abcdefghijklmnopqrstuvwxyz\".upper()\n",
    "# chars = chars.upper()\n",
    "# chars += \"0123456789\"\n",
    "\n",
    "sum(ord(ch) for ch in chars) / len(chars)"
   ]
  },
  {
   "cell_type": "code",
   "execution_count": null,
   "metadata": {
    "tags": []
   },
   "outputs": [],
   "source": [
    "def display(bytez):\n",
    "    return \"\".join(chr(i) for i in bytez)\n",
    "\n",
    "def attempts(crib):\n",
    "    attempts = []\n",
    "    binary = [ord(c) for c in crib]\n",
    "\n",
    "    for i in range(len(xor) - len(binary)):\n",
    "        guess = [x ^ y for x, y in zip(binary, xor[i:i+len(binary)])]\n",
    "        string = display(guess)\n",
    "        attempts.append(( entropy(string), string ))\n",
    "\n",
    "    attempts.sort(key=lambda tup: tup[0])\n",
    "    return attempts[0][1]\n",
    "\n",
    "def entropy1(string):\n",
    "    e = 0\n",
    "    string = string.replace(\" \", \"\")#.lower()\n",
    "    for i in range(len(string)):\n",
    "        for j in range(i+1, len(string)):\n",
    "            e += (ord(string[i]) - ord(string[j]))**2\n",
    "    \n",
    "    return e / len(string) # / len(string)\n",
    "\n",
    "def entropy(string):\n",
    "    e = 0\n",
    "    string = string.replace(\" \", \"\").upper()\n",
    "    for i in range(len(string)):\n",
    "        e += (77.5 - ord(string[i]))**2 # 70.55\n",
    "    \n",
    "    return e / len(string)"
   ]
  },
  {
   "cell_type": "code",
   "execution_count": null,
   "metadata": {
    "tags": []
   },
   "outputs": [],
   "source": [
    "# Electronic mail (email or e-mail) is a method of exchanging messages (mail) between people using Internet Mail Extensions (MIME) to carry text in other character sets and multimedia content "
   ]
  },
  {
   "cell_type": "code",
   "execution_count": null,
   "metadata": {
    "tags": []
   },
   "outputs": [],
   "source": [
    "attempts(\"in other\")"
   ]
  },
  {
   "cell_type": "code",
   "execution_count": null,
   "metadata": {
    "tags": []
   },
   "outputs": [],
   "source": [
    "b = attempts(\n",
    "    \" electronic devices \")\n",
    "b"
   ]
  },
  {
   "cell_type": "code",
   "execution_count": null,
   "metadata": {
    "tags": []
   },
   "outputs": [],
   "source": [
    "cts"
   ]
  }
 ],
 "metadata": {
  "kernelspec": {
   "display_name": "Python 3 (ipykernel)",
   "language": "python",
   "name": "python3"
  },
  "language_info": {
   "codemirror_mode": {
    "name": "ipython",
    "version": 3
   },
   "file_extension": ".py",
   "mimetype": "text/x-python",
   "name": "python",
   "nbconvert_exporter": "python",
   "pygments_lexer": "ipython3",
   "version": "3.10.12"
  }
 },
 "nbformat": 4,
 "nbformat_minor": 4
}
