{
 "cells": [
  {
   "cell_type": "markdown",
   "metadata": {},
   "source": [
    "# Enkratna podloga in napadi nanjo\n",
    "\n",
    "Cilji laboratorijske vaje so sledeči:\n",
    "- spoznati postrojitev podatkov za potrebe šifriranja,\n",
    "- spoznati delovanje enkratne podloge (OTP) in posledično tokovnih šifer,\n",
    "- spoznati tehniko napada na enkratno podlogo, ko se ključ uporabi večkrat,\n",
    "- spoznati tehniko napada na enkratno podlogo, ko lahko napadalec spremeni tajnopis.\n",
    "\n",
    "**POMEMBNO**\n",
    "\n",
    "Namen te laboratorijske vaje se je seznaniti z načinom ravnanja s šiframi. Naša implementacija šifer bo osnovana na preprostosti in bo narejena **zgolj v pedagoške namene**. Kot taka ni primerna za uporabo v praksi. \n",
    "\n",
    "Šifre, ki so za uporabo v praksi primerne in primerno implementirane, bomo spoznali kasneje."
   ]
  },
  {
   "cell_type": "markdown",
   "metadata": {},
   "source": [
    "## Ustvarjanje pravih naključnih vrednosti"
   ]
  },
  {
   "cell_type": "markdown",
   "metadata": {},
   "source": [
    "Naključne vrednosti bomo v Pythonu ustvarili s pomočjo modula `secrets`. Za zdaj bo to najboljši približek pravim naključnim vrednostim; [povezava na dokumentacijo.](https://docs.python.org/3/library/secrets.html)\n",
    "\n",
    "Najprej modul uvozimo, nato pa imlementiramo funkcijo, katera ustvari seznam naključnih bajtov za podano dolžino."
   ]
  },
  {
   "cell_type": "code",
   "execution_count": null,
   "metadata": {
    "tags": []
   },
   "outputs": [],
   "source": [
    "import secrets"
   ]
  },
  {
   "cell_type": "code",
   "execution_count": null,
   "metadata": {
    "tags": []
   },
   "outputs": [],
   "source": [
    "def gen_key(length):\n",
    "    \"\"\"Vrne nakljucni niz bajtov podane dolzine\"\"\"\n",
    "    return secrets.token_bytes(length)"
   ]
  },
  {
   "cell_type": "markdown",
   "metadata": {},
   "source": [
    "## Naloga 1: Postroj podatkov\n",
    "\n",
    "Vse moderne šifre delujejo na bitih (in bajtih). To pomeni, da moramo visokonivojske podatke (števila, nize, podatkovne strukture) pretvoriti v zaporedje ničel in enic, da jih lahko šifriramo.\n",
    "\n",
    "Pri pretvorbi nizov uporabimo kodirno shemo. Najbolj pogosti možnosti sta ASCII ter UTF-8. \n",
    "\n",
    "Če uporabimo zgolj znake s kodirne tabele ASCII, dobimo pri obeh kodirnih shemah isti rezultat"
   ]
  },
  {
   "cell_type": "code",
   "execution_count": null,
   "metadata": {
    "tags": []
   },
   "outputs": [],
   "source": [
    "sporocilo1 = \"dober dan\"\n",
    "sporocilo1_ascii = sporocilo1.encode(\"ascii\")\n",
    "sporocilo1_utf8 = sporocilo1.encode(\"utf8\")\n",
    "\n",
    "assert sporocilo1_ascii == sporocilo1_utf8\n",
    "\n",
    "print(sporocilo1)\n",
    "print(sporocilo1_ascii)\n",
    "print(sporocilo1_utf8)\n",
    "print(list(sporocilo1_ascii))"
   ]
  },
  {
   "cell_type": "markdown",
   "metadata": {
    "tags": []
   },
   "source": [
    "Če pa uporabimo tudi znake, ki jih na kodirni tabeli ASCII ni, denimo šumnike, pa pride do razlik."
   ]
  },
  {
   "cell_type": "code",
   "execution_count": null,
   "metadata": {
    "tags": []
   },
   "outputs": [],
   "source": [
    "sporocilo2 = \"dober večer\"\n",
    "sporocilo2_utf8 = sporocilo2.encode(\"utf8\")\n",
    "print(sporocilo2_utf8)"
   ]
  },
  {
   "cell_type": "markdown",
   "metadata": {},
   "source": [
    "ASCII kodiranje v tem primeru ne deluje: pri kodiranju znaka `č` bo prišlo do napake."
   ]
  },
  {
   "cell_type": "code",
   "execution_count": null,
   "metadata": {
    "tags": []
   },
   "outputs": [],
   "source": [
    "sporocilo2.encode(\"ascii\")"
   ]
  },
  {
   "cell_type": "markdown",
   "metadata": {},
   "source": [
    "Včasih želimo bajte predstaviti v šestnajstiškem zapisu. V ta namen uporabimo funkcijo `hex()`."
   ]
  },
  {
   "cell_type": "code",
   "execution_count": null,
   "metadata": {
    "tags": []
   },
   "outputs": [],
   "source": [
    "print(f\"Sporočilo '{sporocilo2}' predstavljeno kot:\\nSeznam bajtov: {list(sporocilo2_utf8)}\\nŠestnajstiški niz: {sporocilo2_utf8.hex()}\")"
   ]
  },
  {
   "cell_type": "markdown",
   "metadata": {},
   "source": [
    "Tako npr. prva dva znaka (`64`) predstavljata šestnajstiški zapis števila `100` ($100 = 6 \\cdot 16^1 + 4 \\cdot 16^0$), medtem ko vrednost `100` v ASCII/UTF-8 kodiranju predstavlja znak `d`\n",
    "\n",
    "Funkcija, ki deluje v obratni smeri tj. ki iz seznama bajtov zgradi niz znakov, se imenuje `bytes.decode()`. "
   ]
  },
  {
   "cell_type": "code",
   "execution_count": null,
   "metadata": {
    "tags": []
   },
   "outputs": [],
   "source": [
    "bajti = b'dober ve\\xc4\\x8der'\n",
    "print(bajti.decode(\"utf8\"))"
   ]
  },
  {
   "cell_type": "markdown",
   "metadata": {},
   "source": [
    "Kodiranje celih števil je preprosteje: le uporabimo [funkcijo `int.to_bytes()`](https://docs.python.org/3/library/stdtypes.html#int.to_bytes) Funkciji moramo podati vsaj 2 argumenta: število bajtov, ki se naj uporabijo za kodiranje (tj. dolžina) in pravilo po katerem so bajti urejeni tj. ali gre za pravilo debelega ali tankega konca (`big` ali `little`). Opcijsko lahko nastavimo še, ali gre za predznačeno število."
   ]
  },
  {
   "cell_type": "code",
   "execution_count": null,
   "metadata": {
    "tags": []
   },
   "outputs": [],
   "source": [
    "stevilo = 100\n",
    "print(stevilo.to_bytes(1, 'big').hex())\n",
    "print(stevilo.to_bytes(1, 'big'))"
   ]
  },
  {
   "cell_type": "markdown",
   "metadata": {},
   "source": [
    "Včasih nas zanima, kateri številčni vrednosti (v kodiranju unikod) pripada posamezen znak. To izvemo s pomočjo funkcije `ord()`."
   ]
  },
  {
   "cell_type": "code",
   "execution_count": null,
   "metadata": {
    "tags": []
   },
   "outputs": [],
   "source": [
    "for ch in \"dober večer\":\n",
    "    print(ch, ord(ch))"
   ]
  },
  {
   "cell_type": "markdown",
   "metadata": {},
   "source": [
    "Funkcija, ki deluje v obratno smer, tj. iz podane unikod vrednosti vrne pripadajoč znak, se imenuje `chr()`."
   ]
  },
  {
   "cell_type": "code",
   "execution_count": null,
   "metadata": {
    "tags": []
   },
   "outputs": [],
   "source": [
    "for code in [100, 111, 98, 101, 114, 32, 118, 101, 269, 101, 114]:\n",
    "    print(code, chr(code))"
   ]
  },
  {
   "cell_type": "markdown",
   "metadata": {},
   "source": [
    "## Naloga 2: Implementacija ekskluzivne disjunkcije\n",
    "\n",
    "Implementirajte metodo `xor_bytes(s1, s2)`, ki spremje seznama bajtov, `s1` in `s1`, in vrne seznam, kjer so vrednosti posameznih bajtov izračunane kot rezultat operacije ekskluzivne disjunkcije nad posameznimi elementi seznama `s1` in `s2`.\n",
    "\n",
    "Operacija ekskluzivne disjukncije v Pythonu je mogoča z uporabo znaka `^`:\n",
    "```python\n",
    ">>> 1 ^ 2\n",
    "3\n",
    "```\n",
    "\n",
    "V sledeči celici lahko delovanje vaše funkcije preverite na treh enotskih testih. Če testi ne vrnejo napake, jih je vaša implementacija uspešno prestala."
   ]
  },
  {
   "cell_type": "code",
   "execution_count": null,
   "metadata": {
    "tags": []
   },
   "outputs": [],
   "source": [
    "def xor_bytes(s1, s2):\n",
    "    \"\"\"Izvede operacijo XOR med podanima seznamoma bajtov in vrne seznam bajtov\"\"\"\n",
    "    pass\n",
    "\n",
    "\n",
    "xor_bytes([1, 16], [2, 1])"
   ]
  },
  {
   "cell_type": "code",
   "execution_count": null,
   "metadata": {
    "tags": []
   },
   "outputs": [],
   "source": [
    "assert xor_bytes([1, 2, 3], [3, 2, 1]) == bytes([2, 0, 2])\n",
    "assert xor_bytes([0, 0, 0], [3, 2, 1]) == bytes([3, 2, 1])\n",
    "assert xor_bytes([1, 1, 1], [1, 1, 1]) == bytes([0, 0, 0])"
   ]
  },
  {
   "cell_type": "markdown",
   "metadata": {},
   "source": [
    "## Naloga 3: Šifra enkratne podloge (OTP)"
   ]
  },
  {
   "cell_type": "markdown",
   "metadata": {},
   "source": [
    "Implementirajte šifrirni in dešifrirni algorite enkratne podloge. Če uporabite rešitev iz prve naloge, bo implementacija trivialno kratka."
   ]
  },
  {
   "cell_type": "code",
   "execution_count": null,
   "metadata": {
    "tags": []
   },
   "outputs": [],
   "source": [
    "def enc_otp(key, pt):\n",
    "    \"\"\"Sifrirni algoritem enkratne podloge\"\"\"\n",
    "    pass"
   ]
  },
  {
   "cell_type": "code",
   "execution_count": null,
   "metadata": {
    "tags": []
   },
   "outputs": [],
   "source": [
    "assert enc_otp([1, 2, 3], [1, 1, 1]) == xor_bytes([1, 2, 3], [1, 1, 1])"
   ]
  },
  {
   "cell_type": "code",
   "execution_count": null,
   "metadata": {
    "tags": []
   },
   "outputs": [],
   "source": [
    "def dec_otp(key, ct):\n",
    "    \"\"\"Desifrirni algoritem enkratne podloge\"\"\"\n",
    "    pass"
   ]
  },
  {
   "cell_type": "code",
   "execution_count": null,
   "metadata": {
    "tags": []
   },
   "outputs": [],
   "source": [
    "assert dec_otp([1, 2, 3], [1, 1, 1]) == xor_bytes([1, 2, 3], [1, 1, 1])"
   ]
  },
  {
   "cell_type": "markdown",
   "metadata": {},
   "source": [
    "## Naloga 4: Šifriranje in dešifriranje\n",
    "\n",
    "Uporabite metodi šifriranja in dešifriranja iz prejšnje naloge in zašifrirajte sporočilo `Enkratna podloga je popolno tajna šifra.` \n",
    "\n",
    "Implementacijo šifriranja podajte v telesu funkcije `example_enc()`. Za ključ uporabite vrednost `3d26ebcbc0b2ad0d15c6be1f6259fd89495451fc2245cd8dad40c480a87bbb3a7525a9ba4abb930417`. Pozor: podano vrednost ključa je potrebno prebrati kot seznam bajtov. To storite s pomočjo funkcije `bytes.fromhex(...)`."
   ]
  },
  {
   "cell_type": "code",
   "execution_count": null,
   "metadata": {
    "tags": []
   },
   "outputs": [],
   "source": [
    "def example_enc():\n",
    "    pass\n",
    "\n",
    "example_enc()"
   ]
  },
  {
   "cell_type": "code",
   "execution_count": null,
   "metadata": {
    "tags": []
   },
   "outputs": [],
   "source": [
    "assert example_enc().hex() == \"784880b9a1c6c36c35b6d17b0e369ae8693e34dc522abde2c12eaba0dc1ad15414056c1b23dde16539\""
   ]
  },
  {
   "cell_type": "markdown",
   "metadata": {},
   "source": [
    "V telesu funkcije `example_dec()` dešifrirajte sporočilo `784880b9a1c6c36c35b6d17b0e369ae8693e34dc522abde2c12eaba0dc1ad15414056c1b23dde16539` in pri tem uporabite isti ključ kot ste ga pri šifriranju."
   ]
  },
  {
   "cell_type": "code",
   "execution_count": null,
   "metadata": {
    "tags": []
   },
   "outputs": [],
   "source": [
    "def example_dec():\n",
    "    pass\n",
    "\n",
    "example_dec().decode(\"utf8\")"
   ]
  },
  {
   "cell_type": "code",
   "execution_count": null,
   "metadata": {
    "tags": []
   },
   "outputs": [],
   "source": [
    "assert example_dec().decode(\"utf8\") == \"Enkratna podloga je popolno tajna šifra.\""
   ]
  },
  {
   "cell_type": "markdown",
   "metadata": {},
   "source": [
    "## Naloga 5: Napad na večkratno podlogo\n",
    "\n",
    "Poglejmo, kaj lahko naredi napadalec, če isto podlogo uporabimo za šifriranje več sporočil."
   ]
  },
  {
   "cell_type": "markdown",
   "metadata": {},
   "source": [
    "### Naloga 5.1: Delno dešifriranje\n",
    "\n",
    "Za začetek si pripravimo implementacijo dešifriranega algoritma, ki dešifrira tajnopis tudi, če nam kakšen del ključa manjka. Dešifrirani algoritem naj dešifrira kot običajno, edina izjema so znaki, ki je vrednost ključa enaka 0. V tem primeru, naj kot pripadajoč znak v tajnopisu nastavi vrednost `*`."
   ]
  },
  {
   "cell_type": "code",
   "execution_count": null,
   "metadata": {
    "tags": []
   },
   "outputs": [],
   "source": [
    "def dec_otp_partial(key, ct):\n",
    "    \"\"\"Desifrira samo tiste znake, kjer kljuc ni 0 -- ce je, kot znak nastavi simbol *\"\"\"\n",
    "    pass\n",
    "\n",
    "dec_otp_partial(\n",
    "    bytes.fromhex(\"0000ebcbc0b2ad0d15c6be1f6259fd89495451fc0000cd8dad40c480a87bbb3a7525a9ba4abb930000\"),\n",
    "    bytes.fromhex(\"784880b9a1c6c36c35b6d17b0e369ae8693e34dc522abde2c12eaba0dc1ad15414056c1b23dde16539\")\n",
    ").decode(\"utf8\")"
   ]
  },
  {
   "cell_type": "code",
   "execution_count": null,
   "metadata": {
    "tags": []
   },
   "outputs": [],
   "source": [
    "assert dec_otp_partial([1, 0, 1], [2, 2, 2]) == bytes([3, ord(\"*\"), 3])\n",
    "assert dec_otp_partial([1, 1, 1], [2, 2, 2]) == dec_otp([1, 1, 1], [2, 2, 2])"
   ]
  },
  {
   "cell_type": "markdown",
   "metadata": {},
   "source": [
    "### Tajnopisi\n",
    "\n",
    "Tajnopisi so shranjeni v binarni obliki v datotekah `data/ct_i.bin`. Preberimo jih z diska."
   ]
  },
  {
   "cell_type": "code",
   "execution_count": null,
   "metadata": {
    "tags": []
   },
   "outputs": [],
   "source": [
    "def load_cts():\n",
    "    cipher_texts = []\n",
    "    for i in range(10):\n",
    "        with open(f\"data/ct_{i}.bin\", \"rb\") as h:\n",
    "            cipher_texts.append(h.read())\n",
    "    return cipher_texts\n",
    "\n",
    "cipher_texts = load_cts()\n",
    "\n",
    "print(\"Izpis prvih 50 bajtov tajnopisa šestnajstiško\")\n",
    "for i, c in enumerate(cipher_texts):\n",
    "    print(f\"Tajnopis {i}, dolžina {len(c)}:  {c.hex()[:100]}...\")"
   ]
  },
  {
   "cell_type": "markdown",
   "metadata": {},
   "source": [
    "Opazimo, da so vsi tajnopisi dolgi 109 bajtov. \n",
    "\n",
    "Vaša naloga je, da ugotovite ključ in z njim dešifrirajte sporočila. Pri tem lahko upoštevate še, da so sporočila v Slovenščini ter sestojijo le iz malih črk in presledkov: šumniki, števke in vsa ostala ločila so odstranjeni."
   ]
  },
  {
   "cell_type": "markdown",
   "metadata": {},
   "source": [
    "### Naloga 5.2: Funkcija `multiple_xor(pos, cts)`\n",
    "\n",
    "Implementirajte funkcijo `multiple_xor(pos, cts)`, ki na vhodu prejme pozicijo znaka v tajnopisu in seznam tajnopisov. Metoda nato vrne bajt ključa oz. vrednost 0, če določi, da bajta v ključu na dani poziciji ni mogoče ugotoviti.\n",
    "\n",
    "Namig: implementacija je dokaj kratka, če uporabite vgrajeno funkcijo `all`. V nasprotnem primeru boste potrebovali vgnezdeno zanko."
   ]
  },
  {
   "cell_type": "code",
   "execution_count": null,
   "metadata": {
    "tags": []
   },
   "outputs": [],
   "source": [
    "def multiple_xor(pos, cts):\n",
    "    pass\n",
    "\n",
    "\n",
    "def test_multiple_xor():\n",
    "    \"\"\"Testira implementacijo funkcije multiple_xor\n",
    "    \n",
    "    Če ne vrne napake, je implementacija pravilna\"\"\"\n",
    "    \n",
    "    test_key = bytes.fromhex(\"cd04c883d62ca6e58f3cc3c554bc77\")\n",
    "    test_cts = [\n",
    "      enc_otp(test_key, \"v ponedeljek in\".encode(\"ascii\")),\n",
    "      enc_otp(test_key, \"ob uri na mestu\".encode(\"ascii\")),\n",
    "      enc_otp(test_key, \"zelo nenavadno \".encode(\"ascii\"))\n",
    "    ]\n",
    "\n",
    "    assert multiple_xor(0, test_cts) == 0\n",
    "    assert multiple_xor(1, test_cts) == test_key[1]\n",
    "    assert multiple_xor(2, test_cts) == test_key[2]\n",
    "    assert multiple_xor(3, test_cts) == 0\n",
    "    assert multiple_xor(4, test_cts) == test_key[4]\n",
    "    assert multiple_xor(5, test_cts) == 0\n",
    "    assert multiple_xor(6, test_cts) == test_key[6]\n",
    "    assert multiple_xor(7, test_cts) == 0\n",
    "    assert multiple_xor(8, test_cts) == 0\n",
    "    assert multiple_xor(9, test_cts) == test_key[9]\n",
    "    assert multiple_xor(10, test_cts) == 0\n",
    "    assert multiple_xor(11, test_cts) == 0\n",
    "    assert multiple_xor(12, test_cts) == test_key[12]\n",
    "    assert multiple_xor(13, test_cts) == 0\n",
    "    assert multiple_xor(14, test_cts) == test_key[14]\n",
    "    \n",
    "test_multiple_xor()"
   ]
  },
  {
   "cell_type": "markdown",
   "metadata": {},
   "source": [
    "### Naloga 5.3: Funkcija `guess_key(cts)`\n",
    "\n",
    "Implementirajte funkcijo `guess_key(cts)`, ki na vhodu prejme seznam tajnopisov in nato vrne seznam bajtov, ki predstavljajo ključ, s katerim so bili tajnopisi ustvarjeni. V primeri, da kakšen bajt v ključu ni mogoče ugotoviti, nastavite njegovo vrednost na 0."
   ]
  },
  {
   "cell_type": "code",
   "execution_count": null,
   "metadata": {
    "tags": []
   },
   "outputs": [],
   "source": [
    "def guess_key(ciphertexts):\n",
    "    pass\n",
    "\n",
    "\n",
    "gk = guess_key(cipher_texts)\n",
    "for c in cipher_texts:\n",
    "    print(dec_otp_partial(gk, c).decode(\"ascii\"))"
   ]
  },
  {
   "cell_type": "markdown",
   "metadata": {},
   "source": [
    "Nekatere bajte v ključih ugotovi algoritem, ostale pa poskusite dopolniti sami. "
   ]
  },
  {
   "cell_type": "markdown",
   "metadata": {},
   "source": [
    "## Naloga 6: Gnetljivost tajnopisa\n",
    "\n",
    "Pri zadnji nalogi bomo kot napadalec spremenili tajnopis, tako da bo sprememba vidna v čistopisu. Zgodba je sledeča.\n",
    "\n",
    "Ana želi poslati zaupno pošto Boru, vas, ki igrate vlogo napadalca Nandija, pa vsebina sporočila _zares_ zanima.\n",
    "\n",
    "Na srečo vam gre nekaj reči na roko. \n",
    "\n",
    "Prvič, Anin računalnik nima internetne povezave, vaš mobilni telefon pa. Zato ji prijazno ponudite, da zanjo postavite mobilno dostopno točko, preko katere se bo lahko povezala v internet in dostopala do poštnega strežnika. Poštni strežnik bo nato sporočilo dostavil Boru. \n",
    "\n",
    "Ana in Bor uporabljata poseben protokol za pošto: protokol FMTP -- Funny Mail Transfer Protocol.  Gre za preprost besedilno-osnovan protokol: prva vrstica označuje naslov prejemnika, druga naslov pošiljatelja, tretja zadevo, četrta je vedno prazna in na koncu je sporočilo.\n",
    "\n",
    "Vse, kar mora Anin poštni odjemalec storiti, da pošlje sporočilo, je, da strežniku FMTP dostavi besedilni niz, podoben naslednjemu.\n",
    "\n",
    "```txt\n",
    "prejemnik@enadomena.com\n",
    "posiljatelj@drugadomena.com\n",
    "Zadeva sporocila\n",
    "\n",
    "<Samo sporocilo>\n",
    "```\n",
    "\n",
    "Vse morebitne predhodne ali zaključne presledke v vsaki vrstici poštni strežnik ignorira oz. odstrani pred obdelavo. Na primer, e-pošto zgoraj bi lahko napisali kot spodnjo in ne bi bilo nobene razlike.\n",
    "\n",
    "\n",
    "```txt\n",
    "                    prejemnik@enadomena.com               \n",
    "    posiljatelj@drugadomena.com                    \n",
    "Zadeva sporocila\n",
    "\n",
    "<Samo sporocilo>\n",
    "```\n",
    "\n",
    "Tretjič, Ana vam v dobri veri -- kakšna naivnost! -- pove, da pošilja elektronsko sporočilo Boru in da uporablja protokol FMTP. (Torej poznate strukturo sporočila in vsebino prve vrstice čistopisa.)\n",
    "\n",
    "Četrtič, Ana uporablja enkratno podlogo, mehanizmov za zagotavljanje celovitosti pa ni.\n",
    "\n",
    "Ker nastopate v vlogi **posrednika**, lahko sedaj spremenite sporočilo tako, da strežnik FMTP ne bo poslal pošte Boru, temveč jo bo poslal na naslov, ki ga nadzirate vi, npr. `nandi@obvlada.si`."
   ]
  },
  {
   "cell_type": "code",
   "execution_count": null,
   "metadata": {
    "tags": []
   },
   "outputs": [],
   "source": [
    "# Ana in Bor si enkrat tedensko v zivo izmenjata 1000 bajtov\n",
    "# nakljucnih vrednosti za morebitne potrebe sifriranja\n",
    "ana_bor_psk = gen_key(1000)"
   ]
  },
  {
   "cell_type": "code",
   "execution_count": null,
   "metadata": {
    "tags": []
   },
   "outputs": [],
   "source": [
    "# Ana pripravi sporočilo\n",
    "email = \"\"\"bor@student.uni-lj.si\n",
    "ana@student.uni-lj.si\n",
    "Hej\n",
    "\n",
    "Na faksu si pozabil kapo.\"\"\".strip()\n",
    "\n",
    "# In ga šifrira z enkratno podlogo\n",
    "ct = enc_otp(ana_bor_psk, email.encode(\"utf8\"))\n",
    "\n",
    "# Nato ga pošlje (to simuliramo) na streznik FMTP\n",
    "print(\"Ana pošilja šifrirano sporočilo na strežnik\")\n",
    "print(\"Tajnopis (HEX):\", ct.hex())"
   ]
  },
  {
   "cell_type": "markdown",
   "metadata": {},
   "source": [
    "Sedaj je na potezi napadalec Nandi.\n",
    "\n",
    "Implementirajte funckijo `change_ct(ct, new_email)`, ki na vhodu prejme tajnopis in email naslov. Spremenite tajnopis tako, da ga bo strežnik FMTP še vedno brez dešifriral, a kot prejemnik ne bo naveden Bor, temveč email naslov, ki je podan v argumentu `new_email`. Predpostavite lahko, da bo `new_email` vedno krajši ali enak od naslova `bor@student.uni-lj.si`."
   ]
  },
  {
   "cell_type": "code",
   "execution_count": null,
   "metadata": {
    "tags": []
   },
   "outputs": [],
   "source": [
    "def change_ct(ct, new_email):\n",
    "    pass"
   ]
  },
  {
   "cell_type": "markdown",
   "metadata": {},
   "source": [
    "S poganjanjem spodnje celice lahko preverite, ali vaša funkcija deluje pravilno. "
   ]
  },
  {
   "cell_type": "code",
   "execution_count": null,
   "metadata": {
    "tags": []
   },
   "outputs": [],
   "source": [
    "def fmtp_receive(key, ct):\n",
    "    print(\"Streznik FMTP prejel sporocilo:\", ct.hex())\n",
    "    pt = dec_otp(key, ct)\n",
    "    print(\"Desifrirano sporocilo:\")\n",
    "    print(pt.decode(\"utf8\"))\n",
    "\n",
    "fmtp_receive(ana_bor_psk, change_ct(ct, \"nandi@obvlada.si\"))"
   ]
  }
 ],
 "metadata": {
  "kernelspec": {
   "display_name": "Python 3 (ipykernel)",
   "language": "python",
   "name": "python3"
  },
  "language_info": {
   "codemirror_mode": {
    "name": "ipython",
    "version": 3
   },
   "file_extension": ".py",
   "mimetype": "text/x-python",
   "name": "python",
   "nbconvert_exporter": "python",
   "pygments_lexer": "ipython3",
   "version": "3.11.5"
  }
 },
 "nbformat": 4,
 "nbformat_minor": 4
}
