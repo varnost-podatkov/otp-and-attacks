{
 "cells": [
  {
   "cell_type": "markdown",
   "id": "186b6ad9-bb0b-42b2-9c0a-b0adf8b71c3f",
   "metadata": {},
   "source": [
    "# Ciphers"
   ]
  },
  {
   "cell_type": "code",
   "execution_count": 1,
   "id": "87ccb62f-ee1a-41ca-bbb7-95b51bf55aff",
   "metadata": {
    "tags": []
   },
   "outputs": [],
   "source": [
    "import random\n",
    "import matplotlib.pyplot as plt"
   ]
  },
  {
   "cell_type": "code",
   "execution_count": 2,
   "id": "20f5587f-25ab-46be-a5dd-c4b5a443a577",
   "metadata": {
    "tags": []
   },
   "outputs": [],
   "source": [
    "alphabet = 'abcčdefghijklmnoprsštuvzž '"
   ]
  },
  {
   "cell_type": "code",
   "execution_count": 3,
   "id": "7d662f82-6cee-45e2-92f3-7cae69747781",
   "metadata": {
    "tags": []
   },
   "outputs": [],
   "source": [
    "def normalize(msg):\n",
    "    msg = \" \".join(msg.lower().split())\n",
    "    return \"\".join(x for x in msg if x in alphabet)"
   ]
  },
  {
   "cell_type": "code",
   "execution_count": 4,
   "id": "d6a9fa15-cc19-4e3b-8594-9f9b0ebf65ad",
   "metadata": {
    "tags": []
   },
   "outputs": [],
   "source": [
    "def valid_input(data):\n",
    "    return all(x in alphabet for x in data)"
   ]
  },
  {
   "cell_type": "code",
   "execution_count": 5,
   "id": "43f6cf25-3daa-4d10-8340-7b598baa13ae",
   "metadata": {
    "tags": []
   },
   "outputs": [],
   "source": [
    "def enc_ceasar(key, pt):\n",
    "    assert valid_input(pt), \"Invalid PT character\"\n",
    "    return \"\".join(\n",
    "        alphabet[(alphabet.index(ch) + alphabet.index(key)) % len(alphabet)]\n",
    "        for ch in pt)"
   ]
  },
  {
   "cell_type": "code",
   "execution_count": 6,
   "id": "edc0e010-9eff-4a5b-9f41-3d755864e560",
   "metadata": {
    "tags": []
   },
   "outputs": [],
   "source": [
    "def dec_ceasar(key, ct):\n",
    "    assert valid_input(ct), \"Invalid CT character\"\n",
    "    return \"\".join(\n",
    "        alphabet[(alphabet.index(ch) - alphabet.index(key)) % len(alphabet)]\n",
    "        for ch in ct)\n",
    "\n",
    "assert dec_ceasar(\"f\", enc_ceasar(\"f\", \"pozdravljen svet\"))"
   ]
  },
  {
   "cell_type": "code",
   "execution_count": 7,
   "id": "79a032fd-5d47-40d7-b0ba-fad695f69ab0",
   "metadata": {
    "tags": []
   },
   "outputs": [],
   "source": [
    "def enc_vigener(key, pt):\n",
    "    assert valid_input(pt), \"Invalid PT character\"\n",
    "    return \"\".join(\n",
    "        enc_ceasar(key[i % len(key)], char) \n",
    "        for i, char in enumerate(pt))"
   ]
  },
  {
   "cell_type": "code",
   "execution_count": 8,
   "id": "576b9a15-81dc-479c-a407-8815feea02b3",
   "metadata": {
    "tags": []
   },
   "outputs": [],
   "source": [
    "def dec_vigener(key, ct):\n",
    "    assert valid_input(ct), \"Invalid CT character\"\n",
    "    return \"\".join(\n",
    "        dec_ceasar(key[i % len(key)], char) \n",
    "        for i, char in enumerate(ct))\n",
    "\n",
    "assert dec_vigener(\"fri\", enc_vigener(\"fri\", \"pozdravljen svet\"))"
   ]
  },
  {
   "cell_type": "code",
   "execution_count": 9,
   "id": "13797559-5e8c-465b-a438-55a9ef7fadef",
   "metadata": {
    "tags": []
   },
   "outputs": [],
   "source": [
    "def enc_mono(key, pt):\n",
    "    assert valid_input(pt), \"Invalid PT character\"\n",
    "    return \"\".join(key[alphabet.index(ch)] for ch in pt)"
   ]
  },
  {
   "cell_type": "code",
   "execution_count": 10,
   "id": "e73527ee-9ac8-45ed-b113-2d6dcc628d65",
   "metadata": {
    "tags": []
   },
   "outputs": [],
   "source": [
    "def dec_mono(key, ct):\n",
    "    assert valid_input(ct), \"Invalid CT character\"\n",
    "    return \"\".join(alphabet[key.index(ch)] for ch in ct)\n",
    "\n",
    "key = \"\".join(random.sample(alphabet, len(alphabet)))\n",
    "assert dec_mono(key, enc_mono(key, \"pozdravljen svet\"))"
   ]
  },
  {
   "cell_type": "markdown",
   "id": "a702dc0b-3ba6-4686-9af0-050296b60573",
   "metadata": {},
   "source": [
    "# Data about Slovene"
   ]
  },
  {
   "cell_type": "code",
   "execution_count": 11,
   "id": "a14d9b44-0b38-4108-adcd-0d75cb82784f",
   "metadata": {
    "tags": []
   },
   "outputs": [],
   "source": [
    "def load(filename):\n",
    "    with open(filename, encoding=\"utf-8\") as h:\n",
    "        return normalize(h.read())"
   ]
  },
  {
   "cell_type": "code",
   "execution_count": 12,
   "id": "4ece3629-9047-4516-91ef-4a9e04d5cea3",
   "metadata": {
    "tags": []
   },
   "outputs": [],
   "source": [
    "text = load(\"oz.txt\") + \" \" \\\n",
    "    + load(\"zs.txt\") + \" \" \\\n",
    "    + load(\"pz.txt\")+ \" \" \\\n",
    "    + load(\"zkp.txt\")"
   ]
  },
  {
   "cell_type": "code",
   "execution_count": 13,
   "id": "99ca5c27-c710-4e16-9e2f-810c1dfcdf4e",
   "metadata": {
    "tags": []
   },
   "outputs": [],
   "source": [
    "from collections import Counter"
   ]
  },
  {
   "cell_type": "code",
   "execution_count": 14,
   "id": "bd4db781-4e0a-4dc5-8d5a-cbb778866330",
   "metadata": {
    "tags": []
   },
   "outputs": [],
   "source": [
    "bigrams = list(zip(text, text[1:]))\n",
    "trigrams = list(zip(text, text[1:], text[2:]))"
   ]
  },
  {
   "cell_type": "markdown",
   "id": "9f058479-f3e2-4ed9-9965-0f2a6e975de3",
   "metadata": {},
   "source": [
    "## Stats for single characters"
   ]
  },
  {
   "cell_type": "code",
   "execution_count": 15,
   "id": "8bb95a6c-6ae3-46b2-9711-16c25d03313d",
   "metadata": {
    "tags": []
   },
   "outputs": [],
   "source": [
    "singles = Counter(text)"
   ]
  },
  {
   "cell_type": "raw",
   "id": "a2a1204f-4baf-479c-815f-4559d6fad4cb",
   "metadata": {
    "tags": []
   },
   "source": [
    "psq_text = sum(\n",
    "    (freq / sum(singles.values())) ** 2 \n",
    "    for _, freq in singles.items())\n",
    "print(\"PSQ =\", round(psq_text, 3))"
   ]
  },
  {
   "cell_type": "markdown",
   "id": "c5db558f-c063-4189-8534-0006061b3c8f",
   "metadata": {},
   "source": [
    "# Bruteforcing Ceasar"
   ]
  },
  {
   "cell_type": "code",
   "execution_count": 16,
   "id": "455cf1b4-7417-4256-ad8b-4530b09a8f9a",
   "metadata": {
    "tags": []
   },
   "outputs": [],
   "source": [
    "# key = dict(zip(alphabet, random.sample(alphabet, len(alphabet))))\n",
    "data = \"\"\"\n",
    "Slovenija ima zaradi lege v zmernih geografskih širinah na prehodu Alp v\n",
    "Dinaride in Sredozemlja v Panonsko kotlino izrazito prehodno podnebje, ki\n",
    "je posledica sovplivanja morskih in celinskih zračnih gmot. Na lokalne\n",
    "podnebne razmere ima precejšen vpliv tudi velika reliefna pestrost in \n",
    "višinska razčlenjenost površja. Na slovenskem ozemlju prihaja do stika \n",
    "in prepletanja gorskega (alpskega), sredozemskega in celinskega podnebja. \n",
    "Za vse tri podnebne tipe je značilna netipičnost, če jih primerjamo s \n",
    "pravim gorskim, sredozemskim ali celinskim podnebjem, s prepletanjem \n",
    "njihovih glavnih značilnosti, zato jim pogosto dodajamo predpono »sub« \n",
    "(submediteransko, subkontinentalno, submontansko podnebje) ali jih \n",
    "označujemo za »zmerno« (sredozemsko, gorsko, celinsko). Izrazita \n",
    "prehodnost podnebnih tipov otežuje podnebno členitev in določanje meja \n",
    "med tipi in podtipi podnebij, pa tudi poimenovanje. Na splošno se z \n",
    "oddaljevanjem od Alp in Visokih dinarskih planot proti vzhodu in severovzhodu\n",
    "Slovenije krepijo celinske podnebne značilnosti, proti jugu in jugozahodu \n",
    "sredozemske, z naraščanjem nadmorske višine v Alpah in Visokih dinarskih \n",
    "planotah pa značilnosti gorskega podnebja.\n",
    "\n",
    "Južno in jugozahodno od alpsko-dinarske pregrade se zaradi reliefne \n",
    "odprtosti proti Jadranskemu morju in Sredozemlju pojavlja zmerno \n",
    "sredozemsko podnebje. Tu je največ dni s soncem v Sloveniji (2.100–2.400 \n",
    "ur na leto) ter največ jasnih in najmanj oblačnih dni. Povprečna \n",
    "temperatura najhladnejšega meseca je nad 0 °C, najtoplejšega pa več kot\n",
    "20 °C. Zaradi vpliva morja so v primerjavi z notranjostjo višje predvsem \n",
    "jesenske in zimske temperature. Padavin je od 1.000 mm ob obali do 1.700 \n",
    "mm v notranjosti. Največ jih običajno pade novembra ali oktobra, sekundarni \n",
    "višek je na prehodu pomladi v poletje (maj, junij), julija in avgusta je \n",
    "običajno suša. Nižje ležeči predeli ob Tržaškem zalivu imajo povprečne \n",
    "januarske temperature nad 4 °C in julijske nad 22 °C (obalni podtip zmerno \n",
    "sredozemskega podnebja, tudi podnebje oljke). Zaledni podtip ima nekoliko \n",
    "nižje temperature in več padavin. Vsi podatki so za obdobje 1971-2000.\n",
    "\n",
    "\n",
    "Šentjur - mesto na zgornjem robu Kozjanskega.\n",
    "Zmerno celinsko vlažno podnebje je značilno za večji del Slovenije. \n",
    "Zaradi prepletanja celinskih podnebnih značilnosti z gorskimi in \n",
    "sredozemskimi ter stopnjevanja celinskosti od Alp in Visokih dinarskih \n",
    "planot proti vzhodu in severovzhodu ločimo tri podtipe zmerno celinskega\n",
    "podnebja. Za zmerno celinsko podnebje zahodne in južne Slovenije je, \n",
    "zaradi lege v predalpskem hribovju in na območju dinarske pregrade (zato \n",
    "tudi predgorsko ali predalpsko podnebje), značilna velika količina \n",
    "padavin (1300–2500 mm padavin na leto, 1971-2000) z viškom padavin jeseni.\n",
    "Zmerno celinsko podnebje osrednje Slovenije ima omiljen celinski \n",
    "padavinski režim z viškom padavin poleti in povprečno letno količino \n",
    "padavin 1000-1300 mm. Zmerno celinsko podnebje vzhodne Slovenije imata \n",
    "gričevnat in nižinski svet na vzhodu ter severovzhodu države, ki sta \n",
    "odprta proti Panonski kotlini. Temperaturni in padavinski režim sta najbolj\n",
    "celinska v Sloveniji. Nižine se poleti zelo segrejejo, pozimi pa ohladijo.\n",
    "Spomladanske temperature so na ravni jesenskih ali celo nekoliko višje. \n",
    "Za slovenske razmere imajo te pokrajine malo padavin – od 800 do 1.000 mm \n",
    "letno (1971-2000), saj jih zaradi lege na zavetrni strani alpsko-dinarske \n",
    "pregrade dosežejo že precej izsušene zračne gmote. Kljub poletnemu \n",
    "padavinskemu višku so poletja v vzhodni in severovzhodni Sloveniji zaradi \n",
    "sorazmerno nizke količine padavin in visokih temperatur na robu sušnosti.\n",
    "\n",
    "Za gorsko podnebje, ki ga imajo alpske pokrajine s Pohorjem in najvišji \n",
    "predeli Visokih dinarskih planot, je značilno, da je povprečna temperatura\n",
    "najhladnejšega meseca manj kot –3 °C in najtoplejšega do zgornje gozdne \n",
    "meje več kot 10 °C. Gorsko podnebje v Sloveniji bi lahko označili tudi za\n",
    "zmerno gorsko (submontansko), saj je gorski svet manj masiven in nižji \n",
    "kot npr. v osrednjih Alpah, zato se ne uveljavljajo vsi višinski \n",
    "podnebno-vegetacijski pasovi značilni za Alpe. Manjka predvsem pravi \n",
    "snežni (nivalni) pas. Zgornja gozdna meja je ločnica podnebja višjega \n",
    "in nižjega gorskega sveta. Podnebje nižjega gorskega sveta imajo tudi \n",
    "nekatere gorske doline, kotline in visoko ležeče kraške kotanje, kjer \n",
    "so julijske temperature na ravni drugih v celinski Sloveniji, januarske \n",
    "pa so predvsem zaradi močnih temperaturnih obratov pod –3 °C. Za gorsko \n",
    "podnebje, zlasti v zahodnem delu Slovenije, je značilna najmanjša osončenost\n",
    "v Sloveniji (1600-1900 ur s soncem letno). Zaradi razvoja konvektivne \n",
    "oblačnosti so slabo osončena poletja, nasprotno pa imajo gorski vrhovi zelo \n",
    "sončne zime. Izstopata velika namočenost (od 1.700 do več kot 3.200 mm \n",
    "padavin letno; 1971-2000), ki se zmanjšuje proti vzhodu, in zmerno \n",
    "sredozemski padavinski režim, ki v smeri Pohorja prehaja v zmerno \n",
    "celinskega.\n",
    "\"\"\"\n",
    "data = normalize(data)"
   ]
  },
  {
   "cell_type": "code",
   "execution_count": 17,
   "id": "16e1ddef",
   "metadata": {
    "tags": []
   },
   "outputs": [],
   "source": [
    "ct = enc_ceasar(\"f\", data)"
   ]
  },
  {
   "cell_type": "markdown",
   "id": "641fc982-2071-4217-98ef-075fd68585e6",
   "metadata": {},
   "source": [
    "# Brute force Ceasar's\n",
    "\n",
    "Podrobnosti v Katzovi knjigi na strani 12."
   ]
  },
  {
   "cell_type": "raw",
   "id": "2a53cac3-d9a8-4d76-8f7b-2ab20f696d69",
   "metadata": {
    "tags": []
   },
   "source": [
    "def bf_ceasar_katz(ct):\n",
    "    min_diff = 1\n",
    "    key = \"a\"\n",
    "    \n",
    "    for k in alphabet:\n",
    "        pt = dec_ceasar(k, ct)\n",
    "\n",
    "        attempt = Counter(pt)\n",
    "        attempt_total = sum(attempt.values())\n",
    "        val = sum(freq / attempt_total * singles[ch] / sum(singles.values())\n",
    "                  for ch, freq in attempt.items())\n",
    "        \n",
    "        diff = abs(val - psq_text)\n",
    "        if diff < min_diff:\n",
    "            min_diff = diff\n",
    "            key = k\n",
    "\n",
    "    return key, dec_ceasar(key, ct)[:50]"
   ]
  },
  {
   "cell_type": "code",
   "execution_count": 18,
   "id": "6fb30501-e6fa-4e25-aeb2-48f1d2411c1a",
   "metadata": {
    "tags": []
   },
   "outputs": [],
   "source": [
    "def freq_diff(a, b):\n",
    "    total_a, total_b = sum(a.values()), sum(b.values())\n",
    "    total = 0.0\n",
    "    \n",
    "    for key in a.keys():\n",
    "        # print(key, a[key], b[key], total_a, total_b)\n",
    "        total += (a[key] - b[key]/total_b * total_a)**2 / (b[key]/total_b * total_a)\n",
    "    \n",
    "    return total"
   ]
  },
  {
   "cell_type": "code",
   "execution_count": 19,
   "id": "f10cb77f-75bb-4745-88b8-391b7157547e",
   "metadata": {
    "tags": []
   },
   "outputs": [],
   "source": [
    "def bf_ceasar(ct):\n",
    "    min_diff = None\n",
    "    key = \"a\"\n",
    "    \n",
    "    for k in alphabet:\n",
    "        pt = dec_ceasar(k, ct)\n",
    "\n",
    "        attempt = Counter(pt)        \n",
    "        diff = freq_diff(attempt, singles)\n",
    "        \n",
    "        if not min_diff or diff < min_diff:\n",
    "            min_diff = diff\n",
    "            key = k\n",
    "\n",
    "    return key, dec_ceasar(key, ct)[:50]"
   ]
  },
  {
   "cell_type": "code",
   "execution_count": 20,
   "id": "70f95d6c-580b-4982-8c7c-c9416e14853e",
   "metadata": {
    "tags": []
   },
   "outputs": [
    {
     "data": {
      "text/plain": [
       "('f', 'slovenija ima zaradi lege v zmernih geografskih ši')"
      ]
     },
     "execution_count": 20,
     "metadata": {},
     "output_type": "execute_result"
    }
   ],
   "source": [
    "bf_ceasar(ct)"
   ]
  },
  {
   "cell_type": "markdown",
   "id": "61a48274-7b17-4bbe-a661-97e92bd21cb5",
   "metadata": {},
   "source": [
    "# Brute force Vigener\n",
    "\n",
    "Podrobnosti v Katzovi knjigi na strani 13.\n",
    "\n",
    "(Pri abecedi dolžine 31 in ključu dolžine 26, je število možnih ključev $31^{26} \\approx 2^{128}$)"
   ]
  },
  {
   "cell_type": "code",
   "execution_count": 36,
   "id": "d62e4b26-df8e-4f00-8dcd-ab55f7f4f2c6",
   "metadata": {
    "tags": []
   },
   "outputs": [],
   "source": [
    "ct = enc_vigener(\"rižvndpvhielnddvjčafjrtibc\", data)"
   ]
  },
  {
   "cell_type": "code",
   "execution_count": 22,
   "id": "2f3cb30c-7ea2-4697-9e2b-d1fced127099",
   "metadata": {
    "tags": []
   },
   "outputs": [],
   "source": [
    "def bf_vigener(klen, ct):\n",
    "    cts = [\"\" for _ in range(klen)]\n",
    "\n",
    "    for i, c in enumerate(ct):\n",
    "        cts[i % klen] += c\n",
    "\n",
    "    params = [bf_ceasar(c) for c in cts]\n",
    "    \n",
    "    key = \"\".join(k for k, _ in params)\n",
    "    return key, dec_vigener(key, ct)"
   ]
  },
  {
   "cell_type": "code",
   "execution_count": 23,
   "id": "0d160f04-1d61-4026-8aab-1ddaac19c4c0",
   "metadata": {
    "tags": []
   },
   "outputs": [],
   "source": [
    "def break_vigener(ct, max_klen=30):\n",
    "    min_diff = None\n",
    "    key = None\n",
    "    text = \"\"\n",
    "    \n",
    "    for klen in range(1, max_klen):\n",
    "        k, pt = bf_vigener(klen, ct)\n",
    "\n",
    "        attempt = Counter(pt)        \n",
    "        diff = freq_diff(attempt, singles)\n",
    "\n",
    "        if not min_diff or diff < min_diff:\n",
    "            min_diff = diff\n",
    "            key = k\n",
    "            text = pt\n",
    "        \n",
    "        if min_diff < 0.005:\n",
    "            print(\"Early termination\")\n",
    "            break\n",
    "    \n",
    "    return key, text[:50]"
   ]
  },
  {
   "cell_type": "code",
   "execution_count": 38,
   "id": "be0d2192-970f-4c4b-8cea-efe109467fd8",
   "metadata": {},
   "outputs": [
    {
     "data": {
      "text/plain": [
       "702"
      ]
     },
     "execution_count": 38,
     "metadata": {},
     "output_type": "execute_result"
    }
   ],
   "source": [
    "27 * 26"
   ]
  },
  {
   "cell_type": "raw",
   "id": "0052c53c-abe2-4e02-8a2a-631a405ccda2",
   "metadata": {},
   "source": [
    "bf_vigener(26, ct)"
   ]
  },
  {
   "cell_type": "code",
   "execution_count": 24,
   "id": "3afeead0-abad-4b4d-87b7-922b98a6ecc9",
   "metadata": {
    "tags": []
   },
   "outputs": [
    {
     "data": {
      "text/plain": [
       "('rižvndpvhielnddvjčafjrtibc',\n",
       " 'slovenija ima zaradi lege v zmernih geografskih ši')"
      ]
     },
     "execution_count": 24,
     "metadata": {},
     "output_type": "execute_result"
    }
   ],
   "source": [
    "break_vigener(ct)"
   ]
  },
  {
   "cell_type": "raw",
   "id": "f6ee92b1-77c1-419c-9c93-77c4d7c8e4cd",
   "metadata": {
    "tags": []
   },
   "source": [
    "print(\" \".join(f\"{char:^2s}\" for char in pt_alphabet))\n",
    "print(\" \".join(f\"{pt_alphabet.index(char):^2d}\" for char in pt_alphabet))"
   ]
  },
  {
   "cell_type": "raw",
   "id": "bd4c599a-6619-487e-ad85-6e6f4faac4b5",
   "metadata": {
    "tags": []
   },
   "source": [
    "# Izriše porazdelitev na Slovenščino\n",
    "total = sum(singles.values())\n",
    "stats = dict(sorted(singles.items()))\n",
    "\n",
    "for k, v in singles.items():\n",
    "    if k == \" \":\n",
    "        k = \"_\"\n",
    "    stats[k] = v/total\n",
    "\n",
    "del stats[\" \"]\n",
    "\n",
    "x = list(stats.keys())\n",
    "y = list(stats.values())\n",
    "\n",
    "plt.bar(x, y)\n",
    "\n",
    "plt.xlabel('Črke')\n",
    "plt.ylabel('Odstotek')\n",
    "plt.title('Porazdelitev znakov v slovenskih besedilih')\n",
    "plt.grid()\n",
    "# plt.savefig(\"../images/letter-frequencies.svg\")"
   ]
  },
  {
   "cell_type": "raw",
   "id": "ea690a03-fc88-4b18-af16-ee8a550341e1",
   "metadata": {
    "tags": []
   },
   "source": [
    "# Izriše porazdelitve za nekaj ključev\n",
    "def bf_ceasar2(ct):\n",
    "    min_diff = None\n",
    "    key = \"a\"\n",
    "    attempts = dict()\n",
    "    \n",
    "    for k in alphabet:\n",
    "        pt = dec_ceasar(k, ct)\n",
    "\n",
    "        attempt = Counter(pt)        \n",
    "        diff = freq_diff(attempt, singles)\n",
    "        \n",
    "        attempts[k] = (diff, attempt)\n",
    "\n",
    "    return attempts\n",
    "\n",
    "def relative_freqs(data):\n",
    "    total = sum(data.values())\n",
    "    stats = dict(sorted(data.items()))\n",
    "\n",
    "    for k, v in data.items():\n",
    "        if k == \" \":\n",
    "            k = \"_\"\n",
    "        stats[k] = v/total\n",
    "\n",
    "    del stats[\" \"]\n",
    "\n",
    "    return stats\n",
    "\n",
    "def plot_freqs(stats, name=None, color=\"blue\"):\n",
    "    x = list(stats.keys())\n",
    "    y = list(stats.values())\n",
    "\n",
    "    plt.bar(x, y, color=color)\n",
    "\n",
    "    plt.xlabel('Črke')\n",
    "    plt.ylabel('Odstotek')\n",
    "    plt.grid()\n",
    "    if name:\n",
    "        plt.title(f\"Porazdelitev znakov pri dešifriranju s ključem '{name}'\")\n",
    "        plt.savefig(f\"../images/lf-dist-{name}.svg\")\n",
    "        \n",
    "ct2 = enc_ceasar(\"f\", data)\n",
    "attempts = bf_ceasar2(ct2)"
   ]
  },
  {
   "cell_type": "raw",
   "id": "d1e2a118-12d6-46a3-a19b-75078d4274a2",
   "metadata": {
    "tags": []
   },
   "source": [
    "plot_freqs(relative_freqs(attempts[\" \"][1]), \"_\", \"olive\")"
   ]
  },
  {
   "cell_type": "raw",
   "id": "afd3bc48-dd53-4db4-8a10-1a629b42f87e",
   "metadata": {
    "tags": []
   },
   "source": [
    "plot_freqs(relative_freqs(attempts[\"e\"][1]), \"e\", \"maroon\")"
   ]
  },
  {
   "cell_type": "raw",
   "id": "71d916a8-5e61-47ec-bc60-7f7eb1f68b1a",
   "metadata": {
    "tags": []
   },
   "source": [
    "plot_freqs(relative_freqs(attempts[\"h\"][1]), \"h\", \"green\")"
   ]
  },
  {
   "cell_type": "raw",
   "id": "5220476c-d177-48a2-a209-62d94a835bbc",
   "metadata": {
    "tags": []
   },
   "source": [
    "plot_freqs(relative_freqs(attempts[\"f\"][1]), \"f\", \"purple\")"
   ]
  },
  {
   "cell_type": "raw",
   "id": "082973fc-2bad-4ff4-8c30-f4a6c870ea9e",
   "metadata": {
    "tags": []
   },
   "source": [
    "alphabet = 'abcčdefghijklmnoprsštuvzž '\n",
    "\n",
    "def enc_ceasar(key, pt):\n",
    "    assert valid_input(pt), \"Invalid PT character\"\n",
    "    \n",
    "    ct = [alphabet[(alphabet.index(ch) + alphabet.index(key)) % len(alphabet)]\n",
    "          for ch in pt]\n",
    "    \n",
    "    print([alphabet.index(c) for c in ct])\n",
    "        \n",
    "    return \"\".join(ct)\n",
    "\n",
    "def enc_vigener(key, pt):\n",
    "    assert valid_input(pt), \"Invalid PT character\"\n",
    "    return \"\".join(\n",
    "        enc_ceasar(key[i % len(key)], char) \n",
    "        for i, char in enumerate(pt))\n",
    "\n",
    "enc_vigener(\"tajno\", \"dober dan\")"
   ]
  },
  {
   "cell_type": "code",
   "execution_count": 32,
   "id": "483cb81c-663e-4d94-99cd-876b777976e3",
   "metadata": {},
   "outputs": [
    {
     "name": "stdout",
     "output_type": "stream",
     "text": [
      "VJCKŽA\n",
      "FHČEM\n",
      "FIŠHN\n"
     ]
    }
   ],
   "source": [
    "ct = enc_vigener(\"fri\", \"pozdravljen svet\")\n",
    "\n",
    "ct1 = \"\".join([c for i, c in enumerate(ct) if i % 3 == 0]).upper()\n",
    "ct2 = \"\".join([c for i, c in enumerate(ct) if i % 3 == 1]).upper()\n",
    "ct3 = \"\".join([c for i, c in enumerate(ct) if i % 3 == 2]).upper()\n",
    "\n",
    "print(ct1)\n",
    "print(ct2)\n",
    "print(ct3)"
   ]
  },
  {
   "cell_type": "code",
   "execution_count": null,
   "id": "22682b4e-bb5c-41dc-9e87-5b22ec26ff15",
   "metadata": {},
   "outputs": [],
   "source": []
  }
 ],
 "metadata": {
  "kernelspec": {
   "display_name": "Python 3 (ipykernel)",
   "language": "python",
   "name": "python3"
  },
  "language_info": {
   "codemirror_mode": {
    "name": "ipython",
    "version": 3
   },
   "file_extension": ".py",
   "mimetype": "text/x-python",
   "name": "python",
   "nbconvert_exporter": "python",
   "pygments_lexer": "ipython3",
   "version": "3.10.12"
  }
 },
 "nbformat": 4,
 "nbformat_minor": 5
}
