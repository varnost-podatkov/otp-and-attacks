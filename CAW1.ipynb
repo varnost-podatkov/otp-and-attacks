{
 "cells": [
  {
   "cell_type": "code",
   "execution_count": 26,
   "id": "2385541f-39fe-4370-a3bb-93caf40a6024",
   "metadata": {
    "tags": []
   },
   "outputs": [],
   "source": [
    "from itertools import cycle"
   ]
  },
  {
   "cell_type": "code",
   "execution_count": 27,
   "id": "bb8b1c3a-943b-4711-8300-6adb212c304a",
   "metadata": {
    "tags": []
   },
   "outputs": [],
   "source": [
    "pt = \"cool!\".encode(\"ascii\")\n",
    "key = cycle([\"0x01\", \"0x3F\"])"
   ]
  },
  {
   "cell_type": "code",
   "execution_count": 28,
   "id": "6c02baa6-06a3-49b6-9679-18d816602640",
   "metadata": {
    "tags": []
   },
   "outputs": [
    {
     "data": {
      "text/plain": [
       "['0x62', '0x50', '0x6e', '0x53', '0x20']"
      ]
     },
     "execution_count": 28,
     "metadata": {},
     "output_type": "execute_result"
    }
   ],
   "source": [
    "ct = [hex(p^int(k, 16)) for p, k in zip(pt, key)]\n",
    "ct #.decode(\"ascii\")"
   ]
  },
  {
   "cell_type": "code",
   "execution_count": 23,
   "id": "5d9df163-fbe6-47f0-bdb4-45f0f1610137",
   "metadata": {
    "tags": []
   },
   "outputs": [],
   "source": [
    "# bytes([int(x, 16) for x in ct]).decode(\"ascii\")"
   ]
  },
  {
   "cell_type": "code",
   "execution_count": 11,
   "id": "b933e63d-eeac-48ce-a5ad-bdaa794f1e2e",
   "metadata": {
    "tags": []
   },
   "outputs": [
    {
     "data": {
      "text/plain": [
       "0.03125"
      ]
     },
     "execution_count": 11,
     "metadata": {},
     "output_type": "execute_result"
    }
   ],
   "source": [
    "round(1/32, 5)"
   ]
  }
 ],
 "metadata": {
  "kernelspec": {
   "display_name": "Python 3 (ipykernel)",
   "language": "python",
   "name": "python3"
  },
  "language_info": {
   "codemirror_mode": {
    "name": "ipython",
    "version": 3
   },
   "file_extension": ".py",
   "mimetype": "text/x-python",
   "name": "python",
   "nbconvert_exporter": "python",
   "pygments_lexer": "ipython3",
   "version": "3.10.12"
  }
 },
 "nbformat": 4,
 "nbformat_minor": 5
}
